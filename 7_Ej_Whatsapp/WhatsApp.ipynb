{
 "cells": [
  {
   "cell_type": "markdown",
   "metadata": {},
   "source": [
    "# Ejercicio: Análisis de grupos de Whatsapp\n",
    "**Autor**: Fermín Cruz.   **Revisor**: José A. Troyano, J. Mariano González, Beatriz Pontes.  **Última modificación**: 01/12/2019\n"
   ]
  },
  {
   "cell_type": "markdown",
   "metadata": {},
   "source": [
    "En este ejercicio vamos a analizar los mensajes de un grupo de Whatsapp. En concreto, podremos obtener toda esta información:\n",
    "* Número de mensajes a lo largo del tiempo\n",
    "* Número de mensajes según el día de la semana, o la hora del día\n",
    "* Número de mensajes escritos por cada participante en el grupo\n",
    "* Palabras más utilizadas en el grupo\n",
    "* Palabras más características de cada participante en el grupo\n",
    "\n",
    "Para llevar a cabo el ejercicio, necesitamos un archivo de log de un grupo de Whatsapp. Junto a este notebook encontrarás un fichero de log ficticio que puedes utilizar para desarrollar los ejercicios (generado a partir de los diálogos de la primera temporada de The Big Bang Theory); sin embargo, es mucho más divertido si utilizas un log de un grupo propio, si es que eres usuario de Whatsapp. Para ello, sigue los siguientes pasos, según estés en **Android** o en **iOS** (*estos pasos han sido probado con las últimas versiones de Whatsapp a día 11 de diciembre de 2017, puede que con otras versiones los pasos cambien ligeramente*):\n",
    "\n",
    "* Android:\n",
    " * Entra en Whatsapp en tu móvil, y accede al grupo que desees. Cuantos más mensajes haya en el grupo, tanto más interesante será el análisis que llevaremos a cabo.\n",
    " * Pulsa en el menú contextual, y busca la opción \"Exportar chat\". Selecciona la opción \"Sin archivo(s)\".\n",
    " * Elige una aplicación para enviar el fichero resultante.\n",
    " * Guarda este archivo dentro de la carpeta datos de este notebook. Quizás prefieras cambiarle el nombre al fichero por uno más corto.\n",
    " \n",
    " \n",
    "* iOS:\n",
    " * Entra en Whatsapp en tu móvil, y accede al grupo que desees.\n",
    " * Pulsa sobre el nombre del grupo, en la parte superior. Busca la opción \"Exportar chat\".\n",
    " * Selecciona \"Sin archivos\", y luego \"Compartir mediante correo electrónico\". Escribe tu dirección de correo.\n",
    " * Accede al email desde este ordenador, y descarga el fichero cuyo nombre acaba en txt.\n",
    " * Guarda este archivo dentro de la carpeta datos de este notebook. Quizás prefieras cambiarle el nombre al fichero por uno más corto.\n",
    "\n",
    "El el formato del fichero que genera Whatsapp varía según se trate de la versión Andriod o iOS. Veamos un ejemplo de cada caso:\n",
    "* Android:\n",
    "<pre>\n",
    "26/02/16, 09:16 - Leonard: De acuerdo, ¿cuál es tu punto?\n",
    "26/02/16, 16:16 - Sheldon: No tiene sentido, solo creo que es una buena idea para una camiseta.\n",
    "</pre>\n",
    "* iOS:\n",
    "<pre>\n",
    "[26/2/16 09:16:25] Leonard: De acuerdo, ¿cuál es tu punto?\n",
    "[26/2/16 16:16:54] Sheldon: No tiene sentido, solo creo que es una buena idea para una camiseta.\n",
    "</pre>\n",
    "\n",
    "Como puedes observar, cada mensaje del chat viene precedido por la fecha, la hora, y el nombre del usuario. El formato no es CSV, como en otros ejercicios, sino que es, digamos, más libre. Así, la fecha ocupa el principio de una línea, que puede venir seguida de una coma. Tras un espacio en blanco, viene la hora (que puede contener o no los segundos), seguida de un espacio, un guión y otro espacio, o bien de dos puntos y un espacio, según la versión de Whatsapp. Por último, tenemos el nombre del usuario, acabando en dos puntos, y tras otro espacio, aparece el texto del mensaje."
   ]
  },
  {
   "cell_type": "markdown",
   "metadata": {},
   "source": [
    "---\n",
    "Como siempre, primero importemos los módulos que necesitamos. "
   ]
  },
  {
   "cell_type": "code",
   "execution_count": null,
   "metadata": {},
   "outputs": [],
   "source": [
    "import datetime\n",
    "from datetime import timedelta\n",
    "import re\n",
    "from collections import namedtuple, Counter\n",
    "import matplotlib.pyplot as plt"
   ]
  },
  {
   "cell_type": "markdown",
   "metadata": {},
   "source": [
    "Si vas a usar tu propio log, cambia el nombre del fichero en la variable FICHERO. Por cierto, ¿has observado que el nombre de esta variable está entero en mayúsculas? Es la manera habitualmente utilizada en Python para indicar que el valor de dicha variable no va a cambiar a lo largo de la ejecución, es decir, que va a permanecer **constante**."
   ]
  },
  {
   "cell_type": "code",
   "execution_count": null,
   "metadata": {},
   "outputs": [],
   "source": [
    "FICHERO = 'data/bigbangtheory_es.txt'\n",
    "\n",
    "# Puedes cambiar estos valores para variar el tamaño de las figuras generadas (ancho, alto)\n",
    "plt.rcParams[\"figure.figsize\"] = [10, 8]\n",
    "\n",
    "# Cambia este valor para variar el número de palabras mque se mostrarán en las nubes de palabras\n",
    "NUM_PALABRAS_NUBE = 100"
   ]
  },
  {
   "cell_type": "markdown",
   "metadata": {},
   "source": [
    "# 1. Lectura del fichero de log\n",
    "\n",
    "En la siguiente función hay que implementar la lectura del fichero de log. Como el formato del fichero es menos regular que en ejercicios anteriores, habrá que leerlo línea a línea y analizar estas líneas para extraer los distintos campos de información (fecha, hora, usuario y texto de cada mensaje). La mejor manera de extraer esta información es mediante el uso de **expresiones regulares**. Estas expresiones nos permiten definir patrones en los que pueden encajar distintos trozos de texto, y extraer información a partir de distintos trozos de la cadena que ha sido reconocida.\n",
    "\n",
    "Vamos a usar una expresión regular para la versión Android de los logs y otra para la versión iOS:"
   ]
  },
  {
   "cell_type": "code",
   "execution_count": null,
   "metadata": {},
   "outputs": [],
   "source": [
    "ANDROID_RE = r'(\\d\\d?/\\d\\d?/\\d\\d?) (\\d\\d?:\\d\\d) - ([^:]+): (.+)'\n",
    "IOS_RE = r'\\[(\\d\\d?/\\d\\d?/\\d\\d?) (\\d\\d?:\\d\\d):\\d\\d\\] ([^:]+): (.+)'"
   ]
  },
  {
   "cell_type": "markdown",
   "metadata": {},
   "source": [
    "Fijémonos en la versión Android para ver qué significa:\n",
    "\n",
    "* La ```r``` que precede a cadena indica a Python que se trata de una expresión regular.\n",
    "* Cada uno de los tramos encerrados entre paréntesis se corresponde con un dato que vamos a extraer. Verás que en total hay cuatro tramos:\n",
    " * El primer tramo de la cadena, ```(\\d\\d?/\\d\\d?/\\d\\d?)```, es un patrón que encaja con las fechas que aparecen en los mensajes. Los \\d indican dígitos, y las interrogaciones indican partes que pueden aparecer o no.\n",
    " * El segundo tramo, ```(\\d\\d?:\\d\\d)```, encaja con las horas.\n",
    " * El tercer tramo, ```([^:]+)```, reconoce los nombres de usuario. La expresión ```[^:]+``` significa *\"cualquier combinación de caracteres salvo los dos puntos\"* (es decir, que reconoce todo el trozo de texto que viene antes de los dos puntos).\n",
    " * Y el último tramo, ```(.+)```, captura el texto de los mensajes. \n",
    "\n",
    "Como es la primera vez que aparecen expresiones regulares, esta función se da parcialmente resuelta. "
   ]
  },
  {
   "cell_type": "code",
   "execution_count": null,
   "metadata": {},
   "outputs": [],
   "source": [
    "Mensaje = namedtuple('Mensaje', 'fecha hora usuario texto')\n",
    "\n",
    "def carga_log(fichero, os='android', debug=False):\n",
    "    ''' Carga un log de Whatsapp, devolviéndolo como lista de tuplas.\n",
    "    \n",
    "    ENTRADA: \n",
    "       - fichero: nombre del fichero del que se quieren leer los datos -> str\n",
    "       - debug: indica si se desea obtener información sobre la carga -> bool\n",
    "    SALIDA: \n",
    "       - lista de mensajes -> [Mensaje(datetime.date, datetime.time, str, str)] \n",
    "    \n",
    "    Si el parámetro debug es True se mostrarán los usuarios y el intervalo de \n",
    "    fechas procesado. Por ejemplo: \n",
    "        3779 mensajes leídos.\n",
    "        Usuarios: {'Penny', 'Sheldon', 'Howard', 'Raj', 'Lesley', 'Leonard'}\n",
    "        Intervalo de fechas: 2016-02-25 -> 2017-03-04\n",
    "    \n",
    "    La función devuelve una lista de tuplas, cada una de ellas conteniendo la fecha,\n",
    "    la hora, el usuario y el texto de un mensaje. El orden de las tuplas en la lista\n",
    "    es el mismo que el que aparece en el fichero, es decir, cronológico.\n",
    "    '''\n",
    "    if os=='android':\n",
    "        regex = ANDROID_RE\n",
    "    elif os=='ios':\n",
    "        regex = IOS_RE\n",
    "    else:\n",
    "        raise Exception('OS no permitido')\n",
    "        \n",
    "    log = []\n",
    "    with open(fichero, encoding='utf8') as f:        \n",
    "        for linea in f:\n",
    "            # Aplicamos la expresión regular sobre cada línea\n",
    "            matches = re.findall(regex, linea)\n",
    "            if matches:  # Si se encuentran coincidencias para los patrones\n",
    "                fecha_str, hora_str, usuario, texto = matches[0]\n",
    "                fecha = datetime.datetime.strptime(fecha_str, '%d/%m/%y').date()\n",
    "                hora = datetime.datetime.strptime(hora_str, '%H:%M').time()\n",
    "                log.append(Mensaje(fecha,hora,usuario, texto))\n",
    "    if debug:\n",
    "        pass\n",
    "        \n",
    "    return log"
   ]
  },
  {
   "cell_type": "markdown",
   "metadata": {},
   "source": [
    "Probemos la función anterior. La salida esperada es:\n",
    "<pre>\n",
    "3726 mensajes leídos.\n",
    "Usuarios: ['Howard', 'Leonard', 'Penny', 'Raj', 'Sheldon']\n",
    "Intervalo de fechas: 2016-02-25 -> 2017-03-04\n",
    "</pre>"
   ]
  },
  {
   "cell_type": "code",
   "execution_count": null,
   "metadata": {},
   "outputs": [],
   "source": [
    "# Test de la función carga_log\n",
    "log = carga_log(FICHERO, debug=True)"
   ]
  },
  {
   "cell_type": "markdown",
   "metadata": {},
   "source": [
    "# 2. Análisis basado en la distribución del número de mensajes"
   ]
  },
  {
   "cell_type": "markdown",
   "metadata": {},
   "source": [
    "Los primeros análisis que vamos a realizar están relacionados con el número de mensajes y su distribución en relación a las fechas, las horas y los usuarios. \n",
    "\n",
    "## 2.1. Construcción de índices\n",
    "\n",
    "Para llevar a cabo esta tarea, nos será muy útil contar con diccionarios que nos agrupen los mensajes ocurridos en una misma fecha, una misma hora o escritos por un mismo usuario. Implemente la siguiente función, que indexa los mensajes por el usuario."
   ]
  },
  {
   "cell_type": "code",
   "execution_count": null,
   "metadata": {},
   "outputs": [],
   "source": [
    "def indexa_por_usuario(log):\n",
    "    ''' Calcula un diccionario indexado por nombre de usuario\n",
    "    \n",
    "    ENTRADA: \n",
    "       - log: lista de mensajes -> [Mensaje(datetime.date, datetime.time, str, str)]\n",
    "    SALIDA: \n",
    "       - diccionario indexado por usuarios -> {str: [Mensaje(datetime.date, datetime.time, str, str)]} \n",
    "    \n",
    "    Para cada usuario, el diccionario contendrá la lista de mensajes escritos por él. \n",
    "    '''\n",
    "    pass"
   ]
  },
  {
   "cell_type": "markdown",
   "metadata": {},
   "source": [
    "Probemos la función, cuya salida esperada es:\n",
    "<pre>\n",
    "Mensajes para  Howard : 428\n",
    "Primer mensaje de Howard : Mensaje(fecha=datetime.date(2016, 3, 19), hora=datetime.time(9, 4), usuario='Howard', texto='Espera a ver esto.')\n",
    "Mensajes para  Leonard : 1210\n",
    "Primer mensaje de Leonard : Mensaje(fecha=datetime.date(2016, 2, 26), hora=datetime.time(9, 16), usuario='Leonard', texto='De acuerdo, ¿cuál es tu punto?')\n",
    "Mensajes para  Penny : 712\n",
    "Primer mensaje de Penny : Mensaje(fecha=datetime.date(2016, 3, 1), hora=datetime.time(12, 30), usuario='Penny', texto='¡Oh hola!')\n",
    "Mensajes para  Raj : 251\n",
    "Primer mensaje de Raj : Mensaje(fecha=datetime.date(2016, 3, 19), hora=datetime.time(9, 11), usuario='Raj', texto='Es fantástico. Increíble.')\n",
    "Mensajes para  Sheldon : 1125\n",
    "Primer mensaje de Sheldon : Mensaje(fecha=datetime.date(2016, 2, 25), hora=datetime.time(22, 33), usuario='Sheldon', texto='Entonces, si un fotón se dirige a través de un plano con dos rendijas y se observa que no se pasará por ambas rendijas. Si no se observa, lo hará, sin embargo, si se observa después de que ha salido del avión, pero antes de que llegue a su objetivo, no habrá pasado por las dos rendijas.')\n",
    "</pre>"
   ]
  },
  {
   "cell_type": "code",
   "execution_count": null,
   "metadata": {},
   "outputs": [],
   "source": [
    "indice_por_usuario = indexa_por_usuario(log)\n",
    "for usuario in sorted(indice_por_usuario):\n",
    "    print(\"Mensajes para \", usuario,\":\", len(indice_por_usuario[usuario]))\n",
    "    print(\"Primer mensaje de\", usuario,\":\", indice_por_usuario[usuario][0])"
   ]
  },
  {
   "cell_type": "markdown",
   "metadata": {},
   "source": [
    "Si ahora queremos obtener índices por fecha y por hora, podríamos copiar el código de la función indexa_por_usuario, cambiando en el cuerpo de la función únicamente el acceso al campo usuario por un acceso al campo fecha u hora. Siendo conscientes de esto, parece más adecuado implementar una única función, indexa_por_campo, que parametrice el nombre del campo de las tuplas que se desea usar como clave en el diccionario devuelto. Así es como lo vamos a hacer:"
   ]
  },
  {
   "cell_type": "code",
   "execution_count": null,
   "metadata": {},
   "outputs": [],
   "source": [
    "def indexa_por_campo(log, campo):\n",
    "    ''' Calcula un diccionario indexado por un campo\n",
    "    \n",
    "    ENTRADA: \n",
    "       - log: lista de mensajes -> [Mensaje(datetime.date, datetime.time, str, str)]\n",
    "       - campo: nombre del campo por el que se quiere indexar -> str\n",
    "    SALIDA: \n",
    "       - diccionario indexado por el campo -> {<tipo del campo>: [Mensaje(datetime.date, datetime.time, str, str)]}\n",
    "       \n",
    "    PISTA: ¿Cómo se accede al campo de una namedtupla cuando tenemos el nombre del campo en una variable?\n",
    "    '''\n",
    "    pass"
   ]
  },
  {
   "cell_type": "markdown",
   "metadata": {},
   "source": [
    "Podemos probar la función para obtener el mismo índice por usuario anterior (también puedes hacer tus propias pruebas para ver qué se obtiene al indexar por otros campos):"
   ]
  },
  {
   "cell_type": "code",
   "execution_count": null,
   "metadata": {},
   "outputs": [],
   "source": [
    "indice_por_usuario = indexa_por_campo(log, 'usuario')\n",
    "for usuario in sorted(indice_por_usuario):\n",
    "    print(\"Mensajes para \", usuario,\":\", len(indice_por_usuario[usuario]))\n",
    "    print(\"Primer mensaje de\", usuario,\":\", indice_por_usuario[usuario][0])"
   ]
  },
  {
   "cell_type": "markdown",
   "metadata": {},
   "source": [
    "## 2.2. Construcción de las gráficas\n",
    "\n",
    "Vamos ahora a dibujar gráficas que nos permitan visualizar cómo se distribuyen los mensajes con respecto a las fechas, las horas o los usuarios. Empecemos dibujando una gráfica de barras que muestre **el número de mensajes que ha escrito cada uno de los usuarios del chat**. \n",
    "\n",
    "PISTA: Es posible que necesites usar la función predefinida **zip**, junto con el operador \\*, que sirve para invertir el funcionamiento habitual de *zip*. Puedes ver un ejemplo aquí: https://stackoverflow.com/a/12974504"
   ]
  },
  {
   "cell_type": "code",
   "execution_count": null,
   "metadata": {},
   "outputs": [],
   "source": [
    "def dibuja_mensajes_por_usuario(log):\n",
    "    ''' Muestra una gráfica de barras indicando el número de mensajes por cada usuario \n",
    "    \n",
    "    ENTRADA: \n",
    "       - log: lista de mensajes -> [Mensaje(datetime.date, datetime.time, str, str)]\n",
    "    SALIDA EN PANTALLA: \n",
    "       - diagrama de barras con el número de mensajes por cada usuario\n",
    "       \n",
    "    Para dibujar la gráfica usaremos las siguientes instrucciones matplotlilb:\n",
    "        plt.barh(range(len(mensajes)), mensajes, tick_label=usuarios)\n",
    "        plt.show()\n",
    "    \n",
    "    Y necesitaremos calcular las siguientes variables:\n",
    "       - usuarios = lista de usuarios que han escrito mensajes, ordenados alfabéticamente\n",
    "       - mensajes = lista (alineada con la anterior) con el número de mensajes escritos por cada usuario\n",
    "    '''\n",
    "    pass"
   ]
  },
  {
   "cell_type": "markdown",
   "metadata": {},
   "source": [
    "Probemos la función anterior. El resultado debe ser parecido a éste:\n",
    "![title](img/barras_usuarios.png)"
   ]
  },
  {
   "cell_type": "code",
   "execution_count": null,
   "metadata": {},
   "outputs": [],
   "source": [
    "# Test de dibuja_mensajes_por_usuario\n",
    "dibuja_mensajes_por_usuario(log)"
   ]
  },
  {
   "cell_type": "markdown",
   "metadata": {},
   "source": [
    "Ahora queremos dibujar una gráfica de barras que muestre el **número de mensajes a lo largo del tiempo**. Para que la información sea más fácil de interpretar, agregaremos los mensajes por meses, mostrando el número total de mensajes en cada uno de los meses entre las fechas inicial y final del log. \n",
    "\n"
   ]
  },
  {
   "cell_type": "code",
   "execution_count": null,
   "metadata": {},
   "outputs": [],
   "source": [
    "def dibuja_mensajes_por_meses(log):\n",
    "    ''' Muestra una gráfica de barras indicando el número de mensajes mensualmente\n",
    "    \n",
    "    ENTRADA: \n",
    "       - log: lista de mensajes -> [Mensaje(datetime.date, datetime.time, str, str)]\n",
    "    SALIDA EN PANTALLA: \n",
    "       - diagrama de barras vertical con el número de mensajes por cada mes\n",
    "       \n",
    "    Para dibujar la gráfica usaremos las siguientes instrucciones matplotlilb:\n",
    "        plt.bar(range(len(mensajes)), mensajes)\n",
    "        plt.xticks(range(len(meses)), meses, rotation=80, fontsize=10)\n",
    "        plt.show()\n",
    "    \n",
    "    Y necesitaremos calcular las siguientes variables:\n",
    "       - meses = lista de meses en los que se han escrito mensajes\n",
    "       - mensajes = lista (alineada con la anterior) con el número de mensajes escritos cada mes\n",
    "    \n",
    "    PISTA: Lo más sencillo es generar una lista con cadenas \"mes/año\" de cada mensaje del log, y luego\n",
    "    contar las apariciones de cada cadena de dicha lista usando Counter.\n",
    "    '''    \n",
    "    pass"
   ]
  },
  {
   "cell_type": "markdown",
   "metadata": {},
   "source": [
    "Probemos la función anterior. El resultado debe ser parecido a éste:\n",
    "![title](img/barras_meses.png)"
   ]
  },
  {
   "cell_type": "code",
   "execution_count": null,
   "metadata": {},
   "outputs": [],
   "source": [
    "# Test de la función muestra_info_por_fechas\n",
    "dibuja_mensajes_por_meses(log)"
   ]
  },
  {
   "cell_type": "markdown",
   "metadata": {},
   "source": [
    "Por último, dibujemos dos gráficas más:\n",
    "* Una gráfica que muestre el **volumen de mensajes según el día de la semana** (de lunes a domingo).\n",
    "* Una gráfica que muestre el **volumen de mensajes según la hora del día** (de 0 a 23)."
   ]
  },
  {
   "cell_type": "code",
   "execution_count": null,
   "metadata": {},
   "outputs": [],
   "source": [
    "def dibuja_mensajes_agregados_por_dias_semana(log):\n",
    "    ''' Muestra una gráfica de barras indicando el número de mensajes agregados por día de la semana\n",
    "    \n",
    "    ENTRADA: \n",
    "       - log: lista de mensajes -> [Mensaje(datetime.date, datetime.time, str, str)]\n",
    "    SALIDA EN PANTALLA: \n",
    "       - diagrama de barras vertical con el número de mensajes por cada día de la semana\n",
    "       \n",
    "    Para dibujar la gráfica usaremos las siguientes instrucciones matplotlilb:\n",
    "        plt.bar(range(len(dias)), mensajes, tick_label=dias)\n",
    "        plt.show()\n",
    "    \n",
    "    Y necesitaremos calcular las siguientes variables:\n",
    "       - dias = lista de dias de la semana ['L','M','X','J','V','S','D']\n",
    "       - mensajes = lista (alineada con la anterior) con el número de mensajes escritos cada dia\n",
    "    '''\n",
    "    pass"
   ]
  },
  {
   "cell_type": "markdown",
   "metadata": {},
   "source": [
    "Probemos la función anterior. El resultado debe ser parecido a éste:\n",
    "![title](img/barras_dias.png)"
   ]
  },
  {
   "cell_type": "code",
   "execution_count": null,
   "metadata": {},
   "outputs": [],
   "source": [
    "# Test de la función dibuja_mensajes_agregados_por_dias_semana\n",
    "dibuja_mensajes_agregados_por_dias_semana(log)"
   ]
  },
  {
   "cell_type": "code",
   "execution_count": null,
   "metadata": {},
   "outputs": [],
   "source": [
    "def dibuja_mensajes_agregados_por_horas(log):\n",
    "    ''' Muestra una gráfica de barras indicando el número de mensajes agregados por horas\n",
    "    \n",
    "    ENTRADA: \n",
    "       - log: lista de mensajes -> [Mensaje(datetime.date, datetime.time, str, str)]\n",
    "    SALIDA EN PANTALLA: \n",
    "       - diagrama de barras vertical con el número de mensajes por cada hora del día\n",
    "       \n",
    "    Para dibujar la gráfica usaremos las siguientes instrucciones matplotlilb:\n",
    "        plt.bar(range(len(horas)), mensajes, tick_label=horas)\n",
    "        plt.show()\n",
    "    \n",
    "    Y necesitaremos calcular las siguientes variables:\n",
    "       - horas = lista de horas del día (de 0 a 23)\n",
    "       - mensajes = lista (alineada con la anterior) con el número de mensajes escritos cada hora\n",
    "    '''    \n",
    "    pass"
   ]
  },
  {
   "cell_type": "markdown",
   "metadata": {},
   "source": [
    "Probemos la función anterior. El resultado debe ser parecido a éste:\n",
    "![title](img/barras_horas.png)"
   ]
  },
  {
   "cell_type": "code",
   "execution_count": null,
   "metadata": {},
   "outputs": [],
   "source": [
    "# Test dibuja_mensajes_agregados_por_horas\n",
    "dibuja_mensajes_agregados_por_horas(log)"
   ]
  },
  {
   "cell_type": "markdown",
   "metadata": {},
   "source": [
    "Ahora puedes jugar a sacar gráficas combinando las funciones anteriores y el uso de la función indice_por_campo. Por ejemplo, podemos obtener un gráfico que muestre la actividad del usuario 'Sheldon' a lo largo de la semana, de esta forma:"
   ]
  },
  {
   "cell_type": "code",
   "execution_count": null,
   "metadata": {},
   "outputs": [],
   "source": [
    "# Cambia el usuario por uno que aparezca en el log que estés utilizando\n",
    "dibuja_mensajes_agregados_por_dias_semana(indice_por_usuario['Sheldon'])"
   ]
  },
  {
   "cell_type": "markdown",
   "metadata": {},
   "source": [
    "Otros gráficos que puedes intentar generar:\n",
    "* Mensajes por hora de un usuario determinado\n",
    "* Mensajes a lo largo del tiempo de un usuario determinado\n",
    "* Mensajes por usuario en una fecha concreta\n",
    "* Mensajes por horas en una fecha concreta"
   ]
  },
  {
   "cell_type": "markdown",
   "metadata": {},
   "source": [
    "# 3. Análisis basado en el contenido textual de los mensajes"
   ]
  },
  {
   "cell_type": "markdown",
   "metadata": {},
   "source": [
    "En estos ejercicios nos vamos a centrar en los textos de los mensajes. Haremos un análisis muy superficial de estos textos, basado principalmente en la frecuencia de aparición de las palabras. Este tipo de procedimientos se emplean en la disciplina conocida como **Minería de Textos**; otro tipo de análisis más profundos se llevan a acabo en la disciplina conocida como **Procesamiento del Lenguaje Natural**, aunque no entraremos en ellos.\n",
    "\n",
    "Para realizar estos ejercicios utilizaremos un módulo llamado **WordCloud**, que es un desarrollo propio del profesor **Andreas Mueller** (*Columbia University*). Para instalarlo en tu sistema y poder utilizarlo sigue las instrucciones disponibles en https://pypi.org/project/wordcloud/. Los pasos más importantes son:\n",
    "\n",
    "* Cierra la ventana en la que estás ejecutando *jupyter notebook*. Puedes hacer *Ctrl+C* repetidas veces para abortar la ejecución.\n",
    "\n",
    "* Abre Anaconda Prompt y ejecuta este comando:\n",
    "<pre>\n",
    "pip install wordcloud\n",
    "</pre>\n",
    "\n",
    "\n",
    "* Una vez hayas acabado la instalación, vuelve a ejecutar *jupyter notebook* desde Anaconoda Prompt.\n",
    "\n",
    "## 3.1. Nubes de palabras frecuentes con WordCloud\n",
    "\n",
    "En primer lugar, implemente la función *muestra_word_cloud*, que muestra una *nube de palabras* con los términos más frecuentemente utilizados en nuestro log. "
   ]
  },
  {
   "cell_type": "code",
   "execution_count": null,
   "metadata": {},
   "outputs": [],
   "source": [
    "from wordcloud import WordCloud\n",
    "\n",
    "def muestra_word_cloud(log):\n",
    "    ''' Muestra una nube de palabras a partir de todo el texto del log  \n",
    "    \n",
    "    ENTRADA: \n",
    "       - log: lista de mensajes -> [Mensaje(datetime.date, datetime.time, str, str)]\n",
    "    SALIDA EN PANTALLA: \n",
    "       - nube de palabras\n",
    "       \n",
    "    Para obtener el gráfico en cuestión, utilizar el siguiente código:\n",
    "        wordcloud = WordCloud(\n",
    "                 font_path='datos/CabinSketch-Bold.ttf',\n",
    "                 background_color='white',\n",
    "                 width=1800,\n",
    "                 height=1400,\n",
    "                 normalize_plurals=False,\n",
    "                 max_words=200\n",
    "                 ).generate(texto)\n",
    "        plt.imshow(wordcloud)\n",
    "        plt.axis('off')\n",
    "        plt.show()\n",
    "\n",
    "    La variable que hay que calcular es:\n",
    "       - texto: una cadena que contiene todo el texto de todos los mensajes del log\n",
    "    '''\n",
    "    pass"
   ]
  },
  {
   "cell_type": "markdown",
   "metadata": {},
   "source": [
    "Si probamos la función anterior, deberíamos obtener un gráfico parecido a éste:\n",
    "![title](img/word_cloud_1.png)"
   ]
  },
  {
   "cell_type": "code",
   "execution_count": null,
   "metadata": {},
   "outputs": [],
   "source": [
    "muestra_word_cloud(log)"
   ]
  },
  {
   "cell_type": "markdown",
   "metadata": {},
   "source": [
    "Las nubes de palabras pretenden representar en una sola imagen la información más importante contenida en un texto. Sin embargo, en el gráfico que acabamos de obtener, la mayoría de las palabras que aparecen no nos dan demasiada información sobre el contenido del log. Palabras como \"en\", \"que\", \"un\", \"es\", ..., son muy frecuentes, pero poco informativas. \n",
    "\n",
    "A este tipo de palabras se las conoce como *palabras huecas* (en inglés, *stop words*), y lo ideal sería que las filtrásemos a la hora de construir el grafo. Complete la implementación de la siguiente función, que devuelve un conjunto con las palabras leídas de un fichero de entrada. Tenga en cuenta que el fichero que va a leer usa una codificación de caracteres **utf-8**."
   ]
  },
  {
   "cell_type": "code",
   "execution_count": null,
   "metadata": {},
   "outputs": [],
   "source": [
    "def carga_palabras_huecas(fichero='data/palabras_huecas.txt'):\n",
    "    ''' Devuelve un conjunto con las palabras leídas del fichero \n",
    "    \n",
    "    ENTRADA: \n",
    "       - fichero: nombre del fichero en el que se encuentra la lista de palabras huecas -> str\n",
    "    SALIDA: \n",
    "       - conjunto de palabras huecas -> {str}\n",
    "\n",
    "    El fichero tiene una palabra por línea.\n",
    "    '''\n",
    "    pass"
   ]
  },
  {
   "cell_type": "markdown",
   "metadata": {},
   "source": [
    "Si probamos la función, debemos obtener un conjunto con todas las palabras leídas del fichero."
   ]
  },
  {
   "cell_type": "code",
   "execution_count": null,
   "metadata": {},
   "outputs": [],
   "source": [
    "# Test de carga_palabras_huecas\n",
    "palabras_huecas = carga_palabras_huecas()\n",
    "print(len(palabras_huecas), \"palabras huecas cargadas.\")\n",
    "print(sorted(palabras_huecas))"
   ]
  },
  {
   "cell_type": "markdown",
   "metadata": {},
   "source": [
    "Ahora podemos modificar la función *muestra_word_cloud*, para que reciba un parámetro con las palabras que se desea ignorar. Añada el conjunto de palabras en cuestión al parámetro de nombres *stopwords* cuando invoque a la función *WordCloud*."
   ]
  },
  {
   "cell_type": "code",
   "execution_count": null,
   "metadata": {},
   "outputs": [],
   "source": [
    "def muestra_word_cloud(log, ignora_palabras=set()):\n",
    "    texto = ' '.join((mensaje.texto for mensaje in log))    \n",
    "    wordcloud = WordCloud(\n",
    "                      font_path='data/CabinSketch-Bold.ttf',\n",
    "                      stopwords=ignora_palabras,\n",
    "                      background_color='white',\n",
    "                      width=1800,\n",
    "                      height=1400,\n",
    "                      normalize_plurals=False,\n",
    "                      max_words=NUM_PALABRAS_NUBE\n",
    "                     ).generate(texto)\n",
    "    plt.imshow(wordcloud)\n",
    "    plt.axis('off')\n",
    "    plt.show()"
   ]
  },
  {
   "cell_type": "markdown",
   "metadata": {},
   "source": [
    "Si probamos la función anterior, deberíamos obtener un gráfico con palabras más informativas que antes, parecido a éste:\n",
    "![title](img/word_cloud_2.png)\n",
    "\n",
    "Si sigues viendo palabras que crees que no deberían aparecer porque no aportan información, puedes añadirlas al fichero de palabras huecas y volver a generar el gráfico."
   ]
  },
  {
   "cell_type": "code",
   "execution_count": null,
   "metadata": {
    "scrolled": false
   },
   "outputs": [],
   "source": [
    "muestra_word_cloud(log, palabras_huecas)"
   ]
  },
  {
   "cell_type": "markdown",
   "metadata": {},
   "source": [
    "El mismo procedimiento podemos combinarlo con el uso del índice por usuarios para obtener nubes de palabras para uno de los usuarios de nuestro log:"
   ]
  },
  {
   "cell_type": "code",
   "execution_count": null,
   "metadata": {},
   "outputs": [],
   "source": [
    "usuario = 'Sheldon'  # Si utilizas tu propio log, cambia esto por algún usuario de tu grupo\n",
    "print(\"Nube de palabras de\",usuario)\n",
    "muestra_word_cloud(indice_por_usuario[usuario], palabras_huecas)"
   ]
  },
  {
   "cell_type": "markdown",
   "metadata": {},
   "source": [
    "## 3.2. Nubes de palabras características de usuarios"
   ]
  },
  {
   "cell_type": "markdown",
   "metadata": {},
   "source": [
    "Si observas las nubes generadas, verás que hay algunas palabras que son características de cada usuario, mientras que muchas otras aparecen en todas las nubes o en la mayoría de ellas. ¿Podríamos generar un gráfico que evite las palabras comunes, y que contenga únicamente palabras características de cada usuario? Esto nos puede proporcionar más información sobre las particularidades de los mensajes de cada usuario.\n",
    "\n",
    "Para poder hacer esto, tenemos que generar la lista de palabras a representar junto con un número por cada palabra que indique el tamaño que queremos que tenga la palabra en el gráfico. Vamos a comenzar generando **diccionarios en los que aparezcan todas las palabras de un usuario junto al número de apariciones de dichas palabras en los textos de sus mensajes**."
   ]
  },
  {
   "cell_type": "code",
   "execution_count": null,
   "metadata": {},
   "outputs": [],
   "source": [
    "def genera_conteos_palabras_por_usuario(log):\n",
    "    ''' Genera un diccionario con el conteo de las palabras usadas por cada usuario.\n",
    "    \n",
    "    ENTRADA: \n",
    "       - log: lista de mensajes -> [Mensaje(datetime.date, datetime.time, str, str)]\n",
    "    SALIDA: \n",
    "       - diccionario de conteos de palabras por cada usuario -> {str: {str: int}}\n",
    "    \n",
    "    Por ejemplo, el diccionario devuelto podría ser así:\n",
    "    {'usuario1':{'palabra1':5, 'palabra2':14, 'palabra3':7, ...},\n",
    "     'usuario2':{'palabra1':6, 'palabra2':1, 'palabra3':12, ...},\n",
    "     'usuario3':{'palabra1':3, 'palabra2':7, 'palabra3':18, ...},\n",
    "      ...\n",
    "    }\n",
    "    \n",
    "    Para evitar que aparezcan signos de puntuación, aplicar a cada palabra\n",
    "    la siguiente instrucción:\n",
    "        palabra = palabra.strip(\".,:();¿?¡!\")\n",
    "    '''\n",
    "    pass"
   ]
  },
  {
   "cell_type": "markdown",
   "metadata": {},
   "source": [
    "Vamos a probar la función. Deberías obtener una salida parecida a ésta:\n",
    "<pre>\n",
    "Howard\n",
    "    Espera -> 9\n",
    "    a -> 103\n",
    "    ver -> 4\n",
    "    esto -> 11\n",
    "    Es -> 10\n",
    "   ...\n",
    "Leonard\n",
    "    De -> 46\n",
    "    acuerdo -> 31\n",
    "    cuál -> 2\n",
    "    es -> 187\n",
    "    tu -> 50\n",
    "   ...\n",
    "Penny\n",
    "    Oh -> 79\n",
    "    hola -> 5\n",
    "    Hola -> 29\n",
    "    eso -> 38\n",
    "    es -> 122\n",
    "   ...\n",
    "Raj\n",
    "    Es -> 4\n",
    "    fantástico -> 1\n",
    "    Increíble -> 3\n",
    "    Por -> 17\n",
    "    qué -> 23\n",
    "   ...\n",
    "Sheldon\n",
    "    Entonces -> 28\n",
    "    si -> 48\n",
    "    un -> 254\n",
    "    fotón -> 1\n",
    "    se -> 120\n",
    "   ...\n",
    "</pre>"
   ]
  },
  {
   "cell_type": "code",
   "execution_count": null,
   "metadata": {},
   "outputs": [],
   "source": [
    "# Test de la función \n",
    "test_conteos = genera_conteos_palabras_por_usuario(log)\n",
    "for usuario, conteos in sorted(test_conteos.items()):\n",
    "    print(usuario)\n",
    "    for palabra, conteo in list(conteos.items())[:5]:\n",
    "        print('   ',palabra,'->',conteo)\n",
    "    print('   ...')"
   ]
  },
  {
   "cell_type": "markdown",
   "metadata": {},
   "source": [
    "Lo que acabamos de hacer es básicamente lo que hace automáticamente WordCloud cuando le pasamos un texto: contar las apariciones de las palabras, y dibujar la nube a partir de dicha información. Para quedarnos con las palabras características de cada usuario, vamos a utilizar una fórmula que disminuya el valor asociado a aquellas palabras que son usadas por el resto de usuarios. Antes de plantear dicha fórmula y realizar el cálculo, necesitamos realizar la siguiente función, que para un usuario determinado nos devuelve dos diccionarios:\n",
    "* Uno con los conteos de las palabras usadas por el usuario.\n",
    "* Otro con los conteos totales de las palabras usadas por el resto de usuarios.\n",
    "\n",
    "Para entenderlo mejor, fijémonos en una única palabra, llamémosla *p*. Si en el primer diccionario aparece la palabra *p* asociada al número 23, significa que el usuario en cuestión la ha usado 23 veces en sus mensajes. Si la misma palabra *p* aparece asociada al número 104 en el segundo diccionario, significa que dicha palabra ha sido usada un total de 104 veces por el resto de usuarios. \n",
    "\n",
    "Ambos diccionarios se pueden construir partiendo de la información que nos genera la funcion *genera_conteos_palabras_por_usuario*."
   ]
  },
  {
   "cell_type": "code",
   "execution_count": null,
   "metadata": {},
   "outputs": [],
   "source": [
    "def genera_conteos_palabra_usuario_y_resto(log, usuario):\n",
    "    ''' Calcula conteo de palabras globales y de un usuario\n",
    "    \n",
    "    ENTRADA: \n",
    "       - log: lista de mensajes -> [Mensaje(datetime.date, datetime.time, str, str)]\n",
    "       - usuario: del que se calculará el conteo específico\n",
    "    SALIDA: \n",
    "       - diccionario de conteos de palabras del usuario -> {str: int}\n",
    "       - diccionario con la suma de conteos de palabras del resto de usuarios -> {str:int}\n",
    "    '''\n",
    "    pass"
   ]
  },
  {
   "cell_type": "markdown",
   "metadata": {},
   "source": [
    "Probemos la función. Debes obtener una salida parecida a ésta:\n",
    "<pre>\n",
    "Usuario: Sheldon\n",
    "Entonces -> 28\n",
    "\tconteo para el resto de usuarios: 77\n",
    "si -> 48\n",
    "\tconteo para el resto de usuarios: 97\n",
    "un -> 254\n",
    "\tconteo para el resto de usuarios: 383\n",
    "fotón -> 1\n",
    "\tpalabra no usada por el resto de usuarios.\n",
    "se -> 120\n",
    "\tconteo para el resto de usuarios: 163\n",
    "</pre>"
   ]
  },
  {
   "cell_type": "code",
   "execution_count": null,
   "metadata": {},
   "outputs": [],
   "source": [
    "# Test de la función genera_conteos_palabra_usuario_y_resto\n",
    "usuario = 'Sheldon' # Cámbialo por algún usuario que aparezca en tu log, si es preciso\n",
    "frecuencias_usuario, frecuencias_resto = genera_conteos_palabra_usuario_y_resto(log, usuario)\n",
    "print('Usuario:', usuario)\n",
    "for palabra, conteo in list(frecuencias_usuario.items())[:5]:\n",
    "    print(palabra,'->',conteo)\n",
    "    if palabra in frecuencias_resto:\n",
    "        print('\\tconteo para el resto de usuarios:',frecuencias_resto[palabra])\n",
    "    else:\n",
    "        print('\\tpalabra no usada por el resto de usuarios.')"
   ]
  },
  {
   "cell_type": "markdown",
   "metadata": {},
   "source": [
    "Ahora estamos en disposición de generar el diccionario de palabras características de un usuario. Recordemos que, para cada palabra, queremos obtener un número que sea proporcional al número de veces que el usuario ha usado esa palabra, y al mismo tiempo inversamente proporcional al número de veces que esa palabra ha sido usada por el resto de usuarios. \n",
    "\n",
    "Si llamamos *importancia* a este valor que asociamos a las palabras, la fórmula que usaremos será la siguiente:\n",
    "\n",
    "$$\n",
    "importancia_{usuario}(palabra) = \\frac{conteo_{usuario}(palabra)}{total\\_palabras_{usuario}}*\\frac{total\\_palabras_{resto}}{conteo_{resto}(palabra)}$$\n",
    "\n",
    "Donde:\n",
    "* $conteo_{usuario}(palabra)$ es el número de veces que $usuario$ ha usado la palabra $palabra$ en sus mensajes.\n",
    "* $conteo_{resto}(palabra)$ es el número de veces que el resto de usuarios han usado la palabra $palabra$ en sus mensajes.\n",
    "* $total\\_palabras_{usuario}$ es el total de palabras de todos los mensajes escritos por el usuario.\n",
    "* $total\\_palabras_{usuario}$ es el total de palabras de todos los mensajes escritos por el resto de usuarios.\n",
    "\n",
    "Si te fijas, la primera parte de la fórmula indica el ratio (de 0 a 1) del número de apariciones de una palabra en los mensajes del usuario con respecto al total de palabras de sus mensajes. La segunda parte de la fórmula es la inversa del ratio del número de apariciones de la misma palabra en los mensajes del resto de usuarios con respecto al total de palabras de sus mensajes. Así, las palabras con un alto ratio de uso por parte del usuario y un bajo ratio de uso por parte del resto serán las que obtengan una mayor importancia (y serán representadas con mayor tamaño en la nube de palabras). Esta forma de ponderar la importancia de las palabras se parece mucho a la medida [tf-idf](https://es.wikipedia.org/wiki/Tf-idf), usada en distintas técnicas de [recuperación de información](https://es.wikipedia.org/wiki/B%C3%BAsqueda_y_recuperaci%C3%B3n_de_informaci%C3%B3n) y [minería de textos](https://es.wikipedia.org/wiki/Miner%C3%ADa_de_textos).\n",
    "\n",
    "Para que el denominador nunca sea 0, si $conteo_{resto}(palabra)$ es igual a 0 para una palabra determinada (es decir, la palabra no ha sido usada por ningún otro usuario), entonces usaremos $conteo_{resto}(palabra) = 0.00001$."
   ]
  },
  {
   "cell_type": "code",
   "execution_count": null,
   "metadata": {},
   "outputs": [],
   "source": [
    "def genera_palabras_caracteristicas_usuario(log, usuario, umbral=2):\n",
    "    ''' Genera un diccionario con la importancia de las palabras usadas por un usuario\n",
    "    \n",
    "    ENTRADA: \n",
    "       - log: lista de mensajes -> [Mensaje(datetime.date, datetime.time, str, str)]\n",
    "       - usuario: del que se calculará la importancia de las palabras\n",
    "       - umbral: frecuencia mínima para tener en cuenta una palabra -> int\n",
    "    SALIDA: \n",
    "       - diccionario de importancia de las palabras del usuario -> {str: float}\n",
    "       - diccionario con la suma de conteos de palabras del resto de usuarios -> {str:int}\n",
    "    \n",
    "    La importancia de las palabras se define como un valor proporcional al\n",
    "    número de veces que el usuario la ha usado, e inversamente proporcional\n",
    "    al número de veces que ha sido usada por el resto de usuarios.\n",
    "    \n",
    "    El parámetro umbral permite filtrar palabras que hayan sido usadas pocas \n",
    "    veces, de manera que la importancia asociada a dichas palabras en el \n",
    "    diccionario devuelto será 0.\n",
    "    '''\n",
    "    pass"
   ]
  },
  {
   "cell_type": "markdown",
   "metadata": {},
   "source": [
    "Probemos la función anterior. El resultado debe ser parecido a éste:\n",
    "<pre>\n",
    "Usuario: Sheldon\n",
    "    Entonces -> 0.620867905841999\n",
    "    si -> 0.8448924079499369\n",
    "    un -> 1.1323139222732022\n",
    "    fotón -> 0\n",
    "    se -> 1.2569718339132496\n",
    "</pre>"
   ]
  },
  {
   "cell_type": "code",
   "execution_count": null,
   "metadata": {},
   "outputs": [],
   "source": [
    "# Test de la función genera_palabras_caracteristicas_usuario\n",
    "usuario = 'Sheldon' # Cámbialo por algún usuario que aparezca en tu log, si es preciso\n",
    "importancia_usuario = genera_palabras_caracteristicas_usuario(log, usuario)\n",
    "print('Usuario:', usuario)\n",
    "for palabra, importancia in list(importancia_usuario.items())[:5]:\n",
    "        print('   ',palabra,'->',importancia)"
   ]
  },
  {
   "cell_type": "markdown",
   "metadata": {},
   "source": [
    "Sólo nos queda mostrar la información anterior mediante una nube de palabras. Esto se hace mediante el método *generate_from_frequencies*. La función consiste simplemente en construir la imagen mediante dicho método, así que se proporciona solucionada:"
   ]
  },
  {
   "cell_type": "code",
   "execution_count": null,
   "metadata": {},
   "outputs": [],
   "source": [
    "def muestra_word_cloud_por_frecuencias(frecuencias, ignora_palabras=set()):\n",
    "    wordcloud = WordCloud(\n",
    "                      font_path='data/CabinSketch-Bold.ttf',\n",
    "                      stopwords=ignora_palabras,\n",
    "                      background_color='white',\n",
    "                      width=1800,\n",
    "                      height=1400,\n",
    "                      normalize_plurals=False,\n",
    "                      max_words=NUM_PALABRAS_NUBE\n",
    "                     ).generate_from_frequencies(frecuencias)\n",
    "    plt.imshow(wordcloud)\n",
    "    plt.axis('off')\n",
    "    plt.show()"
   ]
  },
  {
   "cell_type": "markdown",
   "metadata": {},
   "source": [
    "Volvamos a generar la nube de palabras del mismo usuario de antes, y comparemos el resultado."
   ]
  },
  {
   "cell_type": "code",
   "execution_count": null,
   "metadata": {},
   "outputs": [],
   "source": [
    "print(\"Nube de palabras de\",usuario)\n",
    "muestra_word_cloud_por_frecuencias(importancia_usuario, palabras_huecas)"
   ]
  }
 ],
 "metadata": {
  "kernelspec": {
   "display_name": "Python 3",
   "language": "python",
   "name": "python3"
  },
  "language_info": {
   "codemirror_mode": {
    "name": "ipython",
    "version": 3
   },
   "file_extension": ".py",
   "mimetype": "text/x-python",
   "name": "python",
   "nbconvert_exporter": "python",
   "pygments_lexer": "ipython3",
   "version": "3.6.3"
  }
 },
 "nbformat": 4,
 "nbformat_minor": 2
}
