{
 "cells": [
  {
   "cell_type": "markdown",
   "metadata": {},
   "source": [
    "# Ejercicio: Videojuegos\n",
    "**Autores**: Antonia M. Reina y José C. Riquelme.      **Revisores**: Mariano González.     **Última modificación:** 9/1/2020"
   ]
  },
  {
   "cell_type": "markdown",
   "metadata": {},
   "source": [
    "*Este ejercicio está basado en el ejercicio propuesto en el primer examen práctico de la asignatura en el curso 2018/19, realizado el 1 de febrero de 2019. Los apartados que aparecían en el examen son los que figuran con una puntuación.*"
   ]
  },
  {
   "cell_type": "markdown",
   "metadata": {},
   "source": [
    "Disponemos de un conjunto de datos con información sobre ventas de videojuegos. Los datos se encuentran almacenados en un fichero en formato CSV codificado en UTF-8. Cada registro del fichero ocupa una línea y contiene los datos correspondientes a un videojuego: posición en el ranking de ventas, nombre del videojuego, plataforma, año de salida al mercado, género, compañía distribuidora, volumen de ventas en Norteamérica, Europa, Japón y otras zonas, y volumen global de ventas (el volumen de ventas viene dado en millones de copias).\n",
    "\n",
    "Estas son las primeras líneas del fichero (https://bit.ly/2NQLwm8):\n",
    "\n",
    "    Rank,Name,Platform,Year,Genre,Publisher,NA_Sales,EU_Sales,JP_Sales,Other_Sales,Global_Sales\n",
    "    1,Wii Sports,Wii,2006,Sports,Nintendo,41.49,29.02,3.77,8.46,82.74\n",
    "    2,Super Mario Bros.,NES,1985,Platform,Nintendo,29.08,3.58,6.81,0.77,40.24\n",
    "    3,Mario Kart Wii,Wii,2008,Racing,Nintendo,15.85,12.88,3.79,3.31,35.82\n",
    "    4,Wii Sports Resort,Wii,2009,Sports,Nintendo,15.75,11.01,3.28,2.96,33\n",
    "    \n",
    "Escribe el código de las funciones que se indican y ejecuta el test correspondiente para probar su funcionamiento. Las soluciones deben ser genéricas y adaptarse a los datos que se reciben como parámetros, sin presuponer unos valores concretos para estos."
   ]
  },
  {
   "cell_type": "code",
   "execution_count": 21,
   "metadata": {
    "scrolled": true
   },
   "outputs": [],
   "source": [
    "# Antes de comenzar, hay que importar los módulos necesarios\n",
    "import csv\n",
    "#from matplotlib import pylab as plt\n",
    "from collections import namedtuple, Counter, defaultdict\n",
    "#%matplotlib inline"
   ]
  },
  {
   "cell_type": "code",
   "execution_count": 4,
   "metadata": {},
   "outputs": [],
   "source": [
    "# También definimos la tupla con nombre\n",
    "Juego = namedtuple('Juego',\n",
    "            'rank, name, platform, year, genre, publisher, NA_sales, EU_sales, JP_sales, other_sales, global_sales')"
   ]
  },
  {
   "cell_type": "markdown",
   "metadata": {},
   "source": [
    "## Ejercicio 1\n",
    "\n",
    "Escribe la función **lee_juegos**(nom_fichero), que lee el fichero de entrada y lo almacena en una lista de tuplas. (1 Punto)"
   ]
  },
  {
   "cell_type": "code",
   "execution_count": 5,
   "metadata": {},
   "outputs": [],
   "source": [
    "def lee_juegos(fichero):\n",
    "    result = []\n",
    "    with open(fichero, encoding=\"UTF-8\") as f:\n",
    "        lector = csv.reader(f)\n",
    "        next(lector)\n",
    "        result = [Juego(int(rank), name.strip(), platform.strip(), \n",
    "        int(year), genre.strip(), publisher.strip(), float(NA_sales), \n",
    "        float(EU_sales), float(JP_sales), float(other_sales), float(global_sales))\n",
    "        for rank, name, platform, year, genre, publisher, NA_sales, EU_sales, \n",
    "        JP_sales, other_sales, global_sales in lector]\n",
    "    return result"
   ]
  },
  {
   "cell_type": "code",
   "execution_count": 6,
   "metadata": {},
   "outputs": [
    {
     "name": "stdout",
     "output_type": "stream",
     "text": [
      "16291\n"
     ]
    }
   ],
   "source": [
    "# Test de la función lee_juegos\n",
    "# La salida esperada es:\n",
    "# Número total de videojuegos: 16291\n",
    "# Mostrando los tres primeros registros leídos:\n",
    "# Juego(rank=1, name='Wii Sports', platform='Wii', year=2006, genre='Sports', publisher='Nintendo',\n",
    "# NA_sales=41.49, EU_sales=29.02, JP_sales=3.77, other_sales=8.46, global_sales=82.74),\n",
    "# Juego(rank=2, name='Super Mario Bros.', platform='NES', year=1985, genre='Platform', publisher='Nintendo',\n",
    "# NA_sales=29.08, EU_sales=3.58, JP_sales=6.81, other_sales=0.77, global_sales=40.24),\n",
    "# Juego(rank=3, name='Mario Kart Wii', platform='Wii', year=2008, genre='Racing', publisher='Nintendo',\n",
    "# NA_sales=15.85, EU_sales=12.88, JP_sales=3.79, other_sales=3.31, global_sales=35.82)] \n",
    "juegos = lee_juegos(\"../data/videojuegos.csv\")\n",
    "print(len(juegos))"
   ]
  },
  {
   "cell_type": "markdown",
   "metadata": {},
   "source": [
    "## Ejercicio 2\n",
    "\n",
    "Escribe la función **num_juegos_mas_ventasJP**(lista_juegos), que calcula cuántos videojuegos han tenido más ventas en Japón que en Norteamérica."
   ]
  },
  {
   "cell_type": "code",
   "execution_count": 6,
   "metadata": {},
   "outputs": [],
   "source": [
    "def num_juegos_mas_ventasJP(lista_juegos):\n",
    "    result = []\n",
    "    for j in lista_juegos:\n",
    "        if j.NA_sales < j.JP_sales:\n",
    "            result.append(j)\n",
    "    return len(result)"
   ]
  },
  {
   "cell_type": "code",
   "execution_count": 7,
   "metadata": {},
   "outputs": [
    {
     "name": "stdout",
     "output_type": "stream",
     "text": [
      "4078\n"
     ]
    }
   ],
   "source": [
    "# Test de la función existe_mas_ventasJP\n",
    "# La salida esperada es:\n",
    "# Número de videojuegos con más ventas en Japón que en Norteamérica: 4078\n",
    "print(num_juegos_mas_ventasJP(juegos))"
   ]
  },
  {
   "cell_type": "markdown",
   "metadata": {},
   "source": [
    "## Ejercicio 3\n",
    "Escribe la función **juegos_distribuidora_anyo**(lista_juegos, publisher, anyo), que obtiene una lista con los nombres de los juegos de una distribuidora dada en un año dado. (1 Punto)\n"
   ]
  },
  {
   "cell_type": "code",
   "execution_count": 8,
   "metadata": {},
   "outputs": [],
   "source": [
    "def juegos_distribuidora_anyo(lista_juegos, publisher, anyo):\n",
    "    result = []\n",
    "    for j in lista_juegos:\n",
    "        if j.publisher == publisher and j.year == anyo:\n",
    "            result.append(j.name)\n",
    "    return sorted(set(result))"
   ]
  },
  {
   "cell_type": "code",
   "execution_count": 9,
   "metadata": {},
   "outputs": [
    {
     "name": "stdout",
     "output_type": "stream",
     "text": [
      "['Age of Empires III', 'Conker: Live And Reloaded', 'Dungeon Siege II', 'Fable: The Lost Chapters', 'Forza Motorsport', 'Halo 2 Multiplayer Map Pack', 'Halo Triple Pack', 'Jade Empire', 'Kameo: Elements of Power', 'Ninja Gaiden Black', 'PGR3 - Project Gotham Racing 3', 'Perfect Dark Zero', 'Tecmo Classic Arcade', 'Tork: Prehistoric Punk']\n"
     ]
    }
   ],
   "source": [
    "# Test de la función juegos_distribuidora_anyo\n",
    "# La salida esperada para la distribuidora 'Microsoft Game Studios' y el año 2005 es:\n",
    "# Mostrando los 14 juegos distribuidos por Microsoft Game Studios en el año 2005:\n",
    "# ['Forza Motorsport', 'Perfect Dark Zero', 'Conker: Live And Reloaded', 'Jade Empire', \n",
    "# 'Halo 2 Multiplayer Map Pack', 'PGR3 - Project Gotham Racing 3', 'Age of Empires III',\n",
    "# 'Kameo: Elements of Power', 'Halo Triple Pack', 'Ninja Gaiden Black', 'Fable: The Lost Chapters',\n",
    "# 'Tecmo Classic Arcade', 'Tork: Prehistoric Punk', 'Dungeon Siege II']\n",
    "print(juegos_distribuidora_anyo(juegos, 'Microsoft Game Studios', 2005))"
   ]
  },
  {
   "cell_type": "markdown",
   "metadata": {},
   "source": [
    "## Ejercicio 4\n",
    "Escribe la función **num_distribuidoras**(lista_juegos), que obtiene el número de compañías distribuidoras distintas."
   ]
  },
  {
   "cell_type": "code",
   "execution_count": 10,
   "metadata": {},
   "outputs": [],
   "source": [
    "def num_distribuidoras(lista_juegos):  \n",
    "    return len({j.publisher for j in lista_juegos})"
   ]
  },
  {
   "cell_type": "code",
   "execution_count": 11,
   "metadata": {},
   "outputs": [
    {
     "name": "stdout",
     "output_type": "stream",
     "text": [
      "576\n"
     ]
    }
   ],
   "source": [
    "# Test de la función num_distribuidoras\n",
    "# La salida esperada es:\n",
    "# Número de distribuidoras distintas: 576\n",
    "print(num_distribuidoras(juegos))"
   ]
  },
  {
   "cell_type": "markdown",
   "metadata": {},
   "source": [
    "## Ejercicio 5\n",
    "Escribe la función **juego_mas_antiguo**(lista_juegos), que obtiene el videojuego más antiguo. Si hay empate en el año de publicación se devuelven todos."
   ]
  },
  {
   "cell_type": "code",
   "execution_count": 12,
   "metadata": {},
   "outputs": [],
   "source": [
    "def juego_mas_antiguo(lista_juegos):\n",
    "    result = []  \n",
    "    minimo = min(lista_juegos, key = lambda x: x.year)\n",
    "\n",
    "    for j in lista_juegos:\n",
    "        if j.year == minimo.year:\n",
    "            result.append(j)\n",
    "\n",
    "    return result"
   ]
  },
  {
   "cell_type": "code",
   "execution_count": 13,
   "metadata": {},
   "outputs": [
    {
     "name": "stdout",
     "output_type": "stream",
     "text": [
      "[Juego(rank=259, name='Asteroids', platform='2600', year=1980, genre='Shooter', publisher='Atari', NA_sales=4.0, EU_sales=0.26, JP_sales=0.0, other_sales=0.05, global_sales=4.31), Juego(rank=545, name='Missile Command', platform='2600', year=1980, genre='Shooter', publisher='Atari', NA_sales=2.56, EU_sales=0.17, JP_sales=0.0, other_sales=0.03, global_sales=2.76), Juego(rank=1768, name='Kaboom!', platform='2600', year=1980, genre='Misc', publisher='Activision', NA_sales=1.07, EU_sales=0.07, JP_sales=0.0, other_sales=0.01, global_sales=1.15), Juego(rank=1971, name='Defender', platform='2600', year=1980, genre='Misc', publisher='Atari', NA_sales=0.99, EU_sales=0.05, JP_sales=0.0, other_sales=0.01, global_sales=1.05), Juego(rank=2671, name='Boxing', platform='2600', year=1980, genre='Fighting', publisher='Activision', NA_sales=0.72, EU_sales=0.04, JP_sales=0.0, other_sales=0.01, global_sales=0.77), Juego(rank=4027, name='Ice Hockey', platform='2600', year=1980, genre='Sports', publisher='Activision', NA_sales=0.46, EU_sales=0.03, JP_sales=0.0, other_sales=0.01, global_sales=0.49), Juego(rank=5368, name='Freeway', platform='2600', year=1980, genre='Action', publisher='Activision', NA_sales=0.32, EU_sales=0.02, JP_sales=0.0, other_sales=0.0, global_sales=0.34), Juego(rank=6319, name='Bridge', platform='2600', year=1980, genre='Misc', publisher='Activision', NA_sales=0.25, EU_sales=0.02, JP_sales=0.0, other_sales=0.0, global_sales=0.27), Juego(rank=6898, name='Checkers', platform='2600', year=1980, genre='Misc', publisher='Atari', NA_sales=0.22, EU_sales=0.01, JP_sales=0.0, other_sales=0.0, global_sales=0.24)]\n"
     ]
    }
   ],
   "source": [
    "# Test de la función juego_mas_antiguo\n",
    "# La salida esperada es:\n",
    "# El juego (o juegos) más antiguo es: [Juego(rank=259, name='Asteroids', platform='2600', year=1980,\n",
    "# genre='Shooter', publisher='Atari', NA_sales=4.0, EU_sales=0.26, JP_sales=0.0, other_sales=0.05, global_sales=4.31),\n",
    "# Juego(rank=545, name='Missile Command', platform='2600', year=1980, genre='Shooter', publisher='Atari', \n",
    "# NA_sales=2.56, EU_sales=0.17, JP_sales=0.0, other_sales=0.03, global_sales=2.76), Juego(rank=1768, name='Kaboom!',\n",
    "# platform='2600', year=1980, genre='Misc', publisher='Activision', NA_sales=1.07, EU_sales=0.07, JP_sales=0.0,\n",
    "# other_sales=0.01, global_sales=1.15), Juego(rank=1971, name='Defender', platform='2600', year=1980, genre='Misc',\n",
    "# publisher='Atari', NA_sales=0.99, EU_sales=0.05, JP_sales=0.0, other_sales=0.01, global_sales=1.05),\n",
    "# Juego(rank=2671, name='Boxing', platform='2600', year=1980, genre='Fighting', publisher='Activision', \n",
    "# NA_sales=0.72, EU_sales=0.04, JP_sales=0.0, other_sales=0.01, global_sales=0.77), Juego(rank=4027,\n",
    "# name='Ice Hockey', platform='2600', year=1980, genre='Sports', publisher='Activision', NA_sales=0.46,\n",
    "# EU_sales=0.03, JP_sales=0.0, other_sales=0.01, global_sales=0.49), Juego(rank=5368, name='Freeway',\n",
    "# platform='2600', year=1980, genre='Action', publisher='Activision', NA_sales=0.32, EU_sales=0.02, JP_sales=0.0,\n",
    "# other_sales=0.0, global_sales=0.34), Juego(rank=6319, name='Bridge', platform='2600', year=1980, genre='Misc',\n",
    "# publisher='Activision', NA_sales=0.25, EU_sales=0.02, JP_sales=0.0, other_sales=0.0, global_sales=0.27),\n",
    "# Juego(rank=6898, name='Checkers', platform='2600', year=1980, genre='Misc', publisher='Atari', NA_sales=0.22,\n",
    "# EU_sales=0.01, JP_sales=0.0, other_sales=0.0, global_sales=0.24)]\n",
    "print(juego_mas_antiguo(juegos))"
   ]
  },
  {
   "cell_type": "markdown",
   "metadata": {},
   "source": [
    "## Ejercicio 6\n",
    "Escribe la función **genero_mas_presente**(lista_juegos), que obtiene el género de juego que más veces se repite."
   ]
  },
  {
   "cell_type": "code",
   "execution_count": 51,
   "metadata": {},
   "outputs": [],
   "source": [
    "def genero_mas_presente(lista_juegos):\n",
    "    lista_generos = [v.genre for v in lista_juegos]\n",
    "    frecuencias = Counter(lista_generos)\n",
    "    return frecuencias.most_common(1)"
   ]
  },
  {
   "cell_type": "code",
   "execution_count": 52,
   "metadata": {},
   "outputs": [
    {
     "name": "stdout",
     "output_type": "stream",
     "text": [
      "[('Action', 3251)]\n"
     ]
    }
   ],
   "source": [
    "# Test de la función genero_mas_presente\n",
    "# La salida esperada es:\n",
    "# El género que se repite más es \"Action\" con 3251 copias\n",
    "print(genero_mas_presente(juegos))"
   ]
  },
  {
   "cell_type": "markdown",
   "metadata": {},
   "source": [
    "## Ejercicio 7\n",
    "Escribe la función **genero_mas_ventas**(lista_juegos), que obtiene el género con el global de ventas mayor."
   ]
  },
  {
   "cell_type": "code",
   "execution_count": 55,
   "metadata": {},
   "outputs": [],
   "source": [
    "from collections import defaultdict\n",
    "\n",
    "\n",
    "def genero_mas_ventas(lista_juegos):\n",
    "    result = defaultdict(float)\n",
    "    for j in lista_juegos:\n",
    "        result[j.genre] += j.global_sales\n",
    "    return max(result.items(), key=lambda x: x[1])\n",
    "\n",
    "def generos_mas_ventas(lista_juegos):\n",
    "    result = defaultdict(float)\n",
    "    for j in lista_juegos:\n",
    "        result[j.genre] += j.global_sales\n",
    "    maximo = max(result.items(), key=lambda x: x[1])\n",
    "    return [item for item in result.items() if item[1]==maximo[1]]\n"
   ]
  },
  {
   "cell_type": "code",
   "execution_count": 56,
   "metadata": {},
   "outputs": [
    {
     "name": "stdout",
     "output_type": "stream",
     "text": [
      "('Action', 1722.839999999971)\n",
      "[('Action', 1722.839999999971)]\n"
     ]
    }
   ],
   "source": [
    "# Test de la función genero_mas_ventas\n",
    "# La salida esperada es:\n",
    "# El género con más ventas es \"Action\" con 1722.839999999971 millones de copias\n",
    "print(genero_mas_ventas(juegos))\n",
    "\n",
    "print(generos_mas_ventas(juegos))"
   ]
  },
  {
   "cell_type": "markdown",
   "metadata": {},
   "source": [
    "## Ejercicio 8\n",
    "Escribe la función **num_juegos_palabra**(lista_juegos, palabra), que devuelve el número de juegos que contienen una determinada palabra en el título."
   ]
  },
  {
   "cell_type": "code",
   "execution_count": 58,
   "metadata": {},
   "outputs": [],
   "source": [
    "def num_juegos_palabra(lista_juegos, palabra):\n",
    "    result = [juego for juego in lista_juegos if palabra in juego.name]\n",
    "    return len(result)"
   ]
  },
  {
   "cell_type": "code",
   "execution_count": 63,
   "metadata": {},
   "outputs": [
    {
     "name": "stdout",
     "output_type": "stream",
     "text": [
      "11\n"
     ]
    }
   ],
   "source": [
    "# Test de la función num_juegos_palabra\n",
    "# La salida esperada para la palabra 'sport' es:\n",
    "# Hay 11 juegos que contienen la palabra sport\n",
    "print(num_juegos_palabra(juegos, 'sport'))"
   ]
  },
  {
   "cell_type": "markdown",
   "metadata": {},
   "source": [
    "## Ejercicio 9\n",
    "Escribe la función **mayor_dif_NA_EU**(lista_juegos), que obtiene el nombre del videojuego con una mayor diferencia de ventas entre Europa y Norteamérica (a favor de Europa)."
   ]
  },
  {
   "cell_type": "code",
   "execution_count": 17,
   "metadata": {},
   "outputs": [],
   "source": [
    "def mayor_dif_NA_EU(lista_juegos):\n",
    "    \n",
    "    return max(lista_juegos, key = lambda j: j.EU_sales-j.NA_sales).name"
   ]
  },
  {
   "cell_type": "code",
   "execution_count": 18,
   "metadata": {},
   "outputs": [
    {
     "name": "stdout",
     "output_type": "stream",
     "text": [
      "World of Warcraft\n"
     ]
    }
   ],
   "source": [
    "# Test de la función mayor_dif_NA_EU\n",
    "# La salida esperada es:\n",
    "# El juego con mayor diferencia de ventas entre Europa y Norteamérica es: World of Warcraft\n",
    "print(mayor_dif_NA_EU(juegos))"
   ]
  },
  {
   "cell_type": "markdown",
   "metadata": {},
   "source": [
    "## Ejercicio 10\n",
    "Escribe la función **ventas_por_año**(lista_juegos), que devuelve una lista de tuplas formadas por un año y el global de ventas de ese año para los videojuegos que salieron ese año. Ordenada de mayor a menor volumen de venta."
   ]
  },
  {
   "cell_type": "code",
   "execution_count": 22,
   "metadata": {},
   "outputs": [],
   "source": [
    "def ventas_por_año(lista_juegos):\n",
    "    result = defaultdict(float)\n",
    "    for juego in lista_juegos:\n",
    "        result[juego.year] += juego.global_sales\n",
    "    return sorted(result.items(), reverse=True, key = lambda t:t[1])"
   ]
  },
  {
   "cell_type": "code",
   "execution_count": 23,
   "metadata": {},
   "outputs": [
    {
     "name": "stdout",
     "output_type": "stream",
     "text": [
      "[(2008, 678.8999999999952), (2009, 667.2999999999947), (2007, 609.9199999999935), (2010, 600.2899999999948), (2006, 521.0399999999917), (2011, 515.7999999999972), (2005, 458.50999999999766), (2004, 414.0099999999987), (2002, 395.5199999999983), (2013, 368.10999999999865), (2012, 363.4899999999984), (2003, 357.8499999999989), (2014, 337.0299999999985), (2001, 331.4699999999991), (2015, 264.43999999999795), (1998, 256.46999999999963), (1999, 251.27000000000018), (2000, 201.5600000000002), (1997, 200.98000000000013), (1996, 199.14999999999995), (1995, 88.10999999999991), (1994, 79.17000000000003), (1992, 76.15999999999998), (1989, 73.45), (2016, 70.90000000000013), (1985, 53.940000000000005), (1984, 50.360000000000014), (1990, 49.38999999999999), (1988, 47.22), (1993, 45.98), (1986, 37.07), (1981, 35.77000000000001), (1991, 32.230000000000004), (1982, 28.859999999999996), (1987, 21.739999999999995), (1983, 16.790000000000003), (1980, 11.379999999999999), (2020, 0.29), (2017, 0.05)]\n"
     ]
    }
   ],
   "source": [
    "# Test de la función ventas_por_año\n",
    "# La salida esperada para es:\n",
    "# Ventas por año: \n",
    "# [(2008, 678.8999999999952), (2009, 667.2999999999947), (2007, 609.9199999999935), \n",
    "# (2010, 600.2899999999948), (2006, 521.0399999999917), (2011, 515.7999999999972),\n",
    "# (2005, 458.50999999999766), (2004, 414.0099999999987), (2002, 395.5199999999983), \n",
    "# (2013, 368.10999999999865), (2012, 363.4899999999984), (2003, 357.8499999999989), \n",
    "# (2014, 337.0299999999985), (2001, 331.4699999999991), (2015, 264.43999999999795), \n",
    "# (1998, 256.46999999999963), (1999, 251.27000000000018), (2000, 201.5600000000002), \n",
    "# (1997, 200.98000000000013), (1996, 199.14999999999995), (1995, 88.10999999999991), \n",
    "# (1994, 79.17000000000003), (1992, 76.15999999999998), (1989, 73.45), \n",
    "# (2016, 70.90000000000013), (1985, 53.940000000000005), (1984, 50.360000000000014),\n",
    "# (1990, 49.38999999999999), (1988, 47.22), (1993, 45.98), (1986, 37.07), \n",
    "# (1981, 35.77000000000001), (1991, 32.230000000000004), (1982, 28.859999999999996),\n",
    "# (1987, 21.739999999999995), (1983, 16.790000000000003), (1980, 11.379999999999999),\n",
    "# (2020, 0.29), (2017, 0.05)]\n",
    "print(ventas_por_año(juegos))\n"
   ]
  },
  {
   "cell_type": "markdown",
   "metadata": {},
   "source": [
    "## Ejercicio 11\n",
    "Escribe la función **dicc_porcentaje_ventasJP_por_año**(lista_juegos), que devuelve un diccionario cuyas claves son los años de publicación de los videojuegos y cuyos valores son los porcentajes de las ventas de los videojuegos en Japón respecto a las ventas globales en ese año."
   ]
  },
  {
   "cell_type": "code",
   "execution_count": 35,
   "metadata": {},
   "outputs": [],
   "source": [
    "def dicc_porcentaje_ventasJP_por_año(lista_juegos):\n",
    "    result = defaultdict(float)\n",
    "    #1999=[1,1,1,1]\n",
    "    anyos_globales={anyo:glob \n",
    "        for anyo, glob in ventas_por_año(lista_juegos)}\n",
    "    #1999=8\n",
    "    for j in lista_juegos:\n",
    "        result[j.year] += 100 * j.JP_sales/anyos_globales[j.year]\n",
    "        #1999=50.0\n",
    "\n",
    "    return result\n",
    "\n",
    "def dicc_porcentaje_ventasJP_por_año2(lista_juegos):\n",
    "    result = defaultdict(float)\n",
    "\n",
    "    for juego in lista_juegos:\n",
    "        result[juego.year] += juego.JP_sales\n",
    "    \n",
    "    lista = sorted(result.items())\n",
    "    diccionario = {clave:valor for clave, valor in ventas_por_año(lista_juegos)}\n",
    "\n",
    "    return {anyo:100*japon/diccionario[anyo] for anyo, japon in lista}"
   ]
  },
  {
   "cell_type": "code",
   "execution_count": 36,
   "metadata": {},
   "outputs": [
    {
     "name": "stdout",
     "output_type": "stream",
     "text": [
      "{1980: 0.0, 1981: 0.0, 1982: 0.0, 1983: 48.24300178677784, 1984: 28.335980937251776, 1985: 26.992955135335556, 1986: 53.439438899379546, 1987: 53.49586016559339, 1988: 33.37568826768318, 1989: 24.996596324029955, 1990: 30.12755618546265, 1991: 45.857896369841754, 1992: 37.95955882352942, 1993: 55.08916920400176, 1994: 42.932929139825696, 1995: 51.92373169901267, 1996: 28.84258096911875, 1997: 24.315852323614262, 1998: 19.511053924435636, 1999: 20.830182672026094, 2000: 21.219487993649533, 2001: 12.0252209853079, 2002: 10.558252427184517, 2003: 9.557076987564662, 2004: 10.060143474795325, 2005: 11.838345946653352, 2006: 14.150545063718937, 2007: 9.884902938090365, 2008: 8.876123140374201, 2009: 9.274689045406934, 2010: 9.910210065135306, 2011: 10.283055447848074, 2012: 14.234229277284204, 2013: 12.928200809540689, 2014: 11.708156543927918, 2015: 12.751474814702915, 2016: 19.28067700987298, 2017: 100.0, 2020: 0.0}\n"
     ]
    }
   ],
   "source": [
    "# Test de la función dicc_porcentaje_ventasJP_por_año\n",
    "# La salida esperada es:\n",
    "# Porcentajes anuales de ventas en Japón respecto al total: {1980: 0.0, 1981: 0.0, 1982: 0.0,\n",
    "# 1983: 48.24300178677784, 1984: 28.335980937251776, 1985: 26.992955135335556, 1986: 53.439438899379546,\n",
    "# 1987: 53.49586016559339, 1988: 33.37568826768318, 1989: 24.996596324029955, 1990: 30.12755618546265, \n",
    "# 1991: 45.857896369841754, 1992: 37.95955882352942, 1993: 55.08916920400176, 1994: 42.932929139825696,\n",
    "# 1995: 51.92373169901267, 1996: 28.84258096911875, 1997: 24.315852323614262, 1998: 19.511053924435636,\n",
    "# 1999: 20.830182672026094, 2000: 21.219487993649533, 2001: 12.0252209853079, 2002: 10.558252427184517,\n",
    "# 2003: 9.557076987564662, 2004: 10.060143474795325, 2005: 11.838345946653352, 2006: 14.150545063718937,\n",
    "# 2007: 9.884902938090365, 2008: 8.876123140374201, 2009: 9.274689045406934, 2010: 9.910210065135306,\n",
    "# 2011: 10.283055447848074, 2012: 14.234229277284204, 2013: 12.928200809540689, 2014: 11.708156543927918,\n",
    "# 2015: 12.751474814702915, 2016: 19.28067700987298, 2017: 100.0, 2020: 0.0}\n",
    "print(dicc_porcentaje_ventasJP_por_año2(juegos))"
   ]
  },
  {
   "cell_type": "markdown",
   "metadata": {},
   "source": [
    "## Ejercicio 12\n",
    "Escribe la función **incremento_ventas**(lista_juegos), que devuelve una lista ordenada cronológicamente con los incrementos en porcentaje de las ventas globales de los videojuegos que se publicaron un año con respecto al anterior."
   ]
  },
  {
   "cell_type": "code",
   "execution_count": 43,
   "metadata": {},
   "outputs": [],
   "source": [
    "def incremento_ventas(lista_juegos):\n",
    "    result = []\n",
    "    ventas_anyo_anterior = 1\n",
    "    ventas_por_anyo = sorted(ventas_por_año(lista_juegos))\n",
    "    for anyo, globales in ventas_por_anyo:\n",
    "        result.append(((globales-ventas_anyo_anterior)/ventas_anyo_anterior)*100)\n",
    "        ventas_anyo_anterior = globales\n",
    "    return result[1:]\n",
    "\n",
    "def incremento_ventas2(lista_juegos):\n",
    "    ventas_por_anyo_ordenadas = sorted(ventas_por_año(lista_juegos))\n",
    "    auxiliar = list(zip(ventas_por_anyo_ordenadas[:-1], \n",
    "            ventas_por_anyo_ordenadas[1:]))\n",
    "    result = []\n",
    "    for anterior, actual in auxiliar:\n",
    "        result.append((actual[0], 100.0*(actual[1]-anterior[1])/anterior[1]))\n",
    "    return result\n"
   ]
  },
  {
   "cell_type": "code",
   "execution_count": 44,
   "metadata": {},
   "outputs": [
    {
     "name": "stdout",
     "output_type": "stream",
     "text": [
      "[(1981, 214.32337434094913), (1982, -19.317864131954188), (1983, -41.822591822591804), (1984, 199.94044073853487), (1985, 7.108816521048431), (1986, -31.275491286614763), (1987, -41.354194766657685), (1988, 117.20331186752534), (1989, 55.54849639983059), (1990, -32.756977535738606), (1991, -34.743875278396416), (1992, 136.30158237666762), (1993, -39.62710084033613), (1994, 72.1835580687256), (1995, 11.292156119742176), (1996, 126.02428782204079), (1997, 0.9189053477279355), (1998, 27.609712409194678), (1999, -2.027527586072233), (2000, -19.783499820909757), (2001, 64.45227227624468), (2002, 19.323015657525367), (2003, -9.524170711973998), (2004, 15.693726421685056), (2005, 10.748532644138818), (2006, 13.637652395802562), (2007, 17.058191309688937), (2008, 11.309679958027687), (2009, -1.708646339667191), (2010, -10.041960137869085), (2011, -14.074863815822077), (2012, -29.528887165567976), (2013, 1.2710115821618895), (2014, -8.443128412702798), (2015, -21.538142005163003), (2016, -73.18862501890763), (2017, -99.92947813822285), (2020, 480.0)]\n"
     ]
    }
   ],
   "source": [
    "# Test de la función incremento_ventas\n",
    "# La salida esperada es:\n",
    "# Incremento anual de las ventas globales: [214.32337434094913, -19.317864131954188, -41.822591822591804,\n",
    "# 199.94044073853487, 7.108816521048431, -31.275491286614763, -41.354194766657685, 117.20331186752534,\n",
    "# 55.54849639983059, -32.756977535738606, -34.743875278396416, 136.30158237666762, -39.62710084033613,\n",
    "# 72.1835580687256, 11.292156119742176, 126.02428782204079, 0.9189053477279355, 27.609712409194678,\n",
    "# -2.027527586072233, -19.783499820909757, 64.45227227624468, 19.323015657525367, -9.524170711973998,\n",
    "# 15.693726421685056, 10.748532644138818, 13.637652395802562, 17.058191309688937, 11.309679958027687,\n",
    "# -1.708646339667191, -10.041960137869085, -14.074863815822077, -29.528887165567976, 1.2710115821618895,\n",
    "# -8.443128412702798, -21.538142005163003, -73.18862501890763, -99.92947813822285, 480.0]\n",
    "print(incremento_ventas2(juegos))"
   ]
  },
  {
   "cell_type": "markdown",
   "metadata": {},
   "source": [
    "## Ejercicio 13\n",
    "Escribe la función **juego_mas_ventas_globales_saga**(lista_juegos, saga), que obtiene una tupla formada por las ventas globales, el nombre del juego y el año, del juego de la saga dada como parámetro que más ha vendido. Se considera que un juego pertenece a una saga si en su nombre aparece la palabra dada como parámetro. Por ejemplo, serán juegos de la saga Pokemon aquellos que tengan Pokemon en su nombre. (1,5 Puntos)"
   ]
  },
  {
   "cell_type": "code",
   "execution_count": 28,
   "metadata": {},
   "outputs": [],
   "source": [
    "def juego_mas_ventas_globales_saga(lista_juegos, saga):\n",
    "    pass"
   ]
  },
  {
   "cell_type": "code",
   "execution_count": 29,
   "metadata": {},
   "outputs": [],
   "source": [
    "# Test de la función juego_mas_ventas_globales_saga\n",
    "# La salida esperada para la saga 'Pokemon' es:\n",
    "# El juego con más ventas de la saga Pokemon con 31.37 millones de copias es Pokemon Red/Pokemon Blue del año 1996\n"
   ]
  },
  {
   "cell_type": "markdown",
   "metadata": {},
   "source": [
    "## Ejercicio 14\n",
    "Escribe la función **dicc_ventas_por_zona**(lista_juegos, anyo_inicial=None, anyo_final=None), que crea un diccionario con el acumulado de ventas por zona. Las claves del diccionario serán: América, Europa, Japón y Otros, y los valores el total de ventas para esa zona de los años incluidos en el rango (anyo_inicial, anyo_final). Si anyo_inicial es *None*, se devuelven las ventas acumuladas hasta anyo_final. Si anyo_final es *None*, se devuelven las ventas acumuladas desde anyo_inicial. Si ambos son *None*, se acumulan las ventas de todos los años registrados. (1,5 Puntos)"
   ]
  },
  {
   "cell_type": "code",
   "execution_count": 30,
   "metadata": {},
   "outputs": [],
   "source": [
    "def dicc_ventas_por_zona(lista_juegos, anyo_inicial=None, anyo_final=None):\n",
    "    pass"
   ]
  },
  {
   "cell_type": "code",
   "execution_count": 31,
   "metadata": {},
   "outputs": [],
   "source": [
    "# Test de la función dicc_ventas_por_zona\n",
    "# La salida esperada es:\n",
    "# El total de ventas por zona para los años (1985, 1999) es: \n",
    "# {'América': 699.8199999999937, 'Europa': 306.88999999999623, 'Japón': 452.4499999999998, 'Otros': 52.959999999999916}\n",
    "# El total de ventas por zona para los años (None, 1990) es: \n",
    "# {'América': 261.12, 'Europa': 38.83000000000008, 'Japón': 117.36999999999999, 'Otros': 8.529999999999982}\n",
    "# El total de ventas por zona para los años (1999, None) es: \n",
    "# {'América': 3641.940000000276, 'Europa': 2155.2900000003197, 'Japón': 861.7899999999548, 'Otros': 744.4099999998928}\n",
    "# El total de ventas por zona para los años (None, None) es: \n",
    "# {'América': 4327.650000000327, 'Europa': 2406.690000000536, 'Japón': 1284.2699999999031, 'Otros': 788.9099999998845}\n"
   ]
  },
  {
   "cell_type": "markdown",
   "metadata": {},
   "source": [
    "## Ejercicio 15\n",
    "Escribe la función **dicc_top_n_juegos_por_genero**(lista_juegos, n=1), que crea un diccionario cuyas claves son los géneros y cuyos valores son una lista con los n mejores juegos de cada género en formato tupla (posición, nombre). Se considera que un juego es mejor que otro si su posición en el ranking es menor. Si no se proporciona ningún número, entonces la lista solo tendrá el juego mejor. (1,5 Puntos)"
   ]
  },
  {
   "cell_type": "code",
   "execution_count": 32,
   "metadata": {},
   "outputs": [],
   "source": [
    "def dicc_top_n_juegos_por_genero(lista_juegos, n=1):\n",
    "    pass"
   ]
  },
  {
   "cell_type": "code",
   "execution_count": 33,
   "metadata": {},
   "outputs": [],
   "source": [
    "# Test de la función dicc_top_n_juegos_por_genero\n",
    "# La salida esperada para n=3 es:\n",
    "# Los 3 mejores juegos de cada género son: \n",
    "# Sports : [(1, 'Wii Sports'), (4, 'Wii Sports Resort'), (14, 'Wii Fit')]\n",
    "# Platform : [(2, 'Super Mario Bros.'), (7, 'New Super Mario Bros.'), (9, 'New Super Mario Bros. Wii')]\n",
    "# Racing : [(3, 'Mario Kart Wii'), (12, 'Mario Kart DS'), (29, 'Gran Turismo 3: A-Spec')]\n",
    "# Role-Playing : [(5, 'Pokemon Red/Pokemon Blue'), (13, 'Pokemon Gold/Pokemon Silver'), (21, 'Pokemon Diamond/Pokemon Pearl')]\n",
    "# Puzzle : [(6, 'Tetris'), (28, 'Brain Age 2: More Training in Minutes a Day'), (90, 'Pac-Man')]\n",
    "# Misc : [(8, 'Wii Play'), (16, 'Kinect Adventures!'), (20, 'Brain Age: Train Your Brain in Minutes a Day')]\n",
    "# Shooter : [(10, 'Duck Hunt'), (30, 'Call of Duty: Modern Warfare 3'), (32, 'Call of Duty: Black Ops')]\n",
    "# Simulation : [(11, 'Nintendogs'), (42, 'Animal Crossing: Wild World'), (74, 'Animal Crossing: New Leaf')]\n",
    "# Action : [(17, 'Grand Theft Auto V'), (18, 'Grand Theft Auto: San Andreas'), (24, 'Grand Theft Auto V')]\n",
    "# Fighting : [(40, 'Super Smash Bros. Brawl'), (98, 'Super Smash Bros. for Wii U and 3DS'), (106, 'Tekken 3')]\n",
    "# Adventure : [(51, 'Super Mario Land 2: 6 Golden Coins'), (159, \"Assassin's Creed\"), (219, \"Assassin's Creed\")]\n",
    "# Strategy : [(166, 'Pokemon Stadium'), (205, 'Warzone 2100'), (218, 'StarCraft II: Wings of Liberty')]\n"
   ]
  },
  {
   "cell_type": "markdown",
   "metadata": {},
   "source": [
    "## Ejercicio 16\n",
    "Escribe la función **dibuja_ventas_por_zona**(lista_juegos, anyo_inicial=None, anyo_final=None), que dibuja un gráfico que muestra el total de ventas por zona (América, Europa, Japón y Otros) en un determinado rango (anyo_inicial, anyo_final). Si anyo_inicial es *None*, se devuelven las ventas acumuladas hasta anyo_final. Si anyo_final es *None*, se devuelven las ventas acumuladas desde anyo_inicial. Si ambos son *None*, se acumulan las ventas de todos los años registrados. (1,5 Puntos).\n",
    "\n",
    "Se usarán las siguientes sentencias:\n",
    "\n",
    "    fig = plt.figure(titulo)\n",
    "    ax = fig.add_subplot(111)\n",
    "    n_x = range(len(lista_zonas))\n",
    "    ax.bar(n_x, lista_ventas, width=0.8, align='center')\n",
    "    ax.set_xticks(n_x)\n",
    "    ax.set_xticklabels(lista_zonas, rotation='vertical')\n",
    "    plt.show()\n",
    "\n",
    "donde titulo es una cadena con el título que aparecerá en la barra superior de la ventana en la que se muestra el gráfico, lista_zonas es una lista ordenada con el nombre de las zonas, y ventas una lista con las ventas asociadas a cada zona.\n",
    "\n",
    "![title](img/ventas_zona.png)"
   ]
  },
  {
   "cell_type": "code",
   "execution_count": 34,
   "metadata": {},
   "outputs": [],
   "source": [
    "def dibuja_ventas_por_zona(lista_juegos, anyo_inicial=None, anyo_final=None):\n",
    "    pass"
   ]
  },
  {
   "cell_type": "code",
   "execution_count": 35,
   "metadata": {},
   "outputs": [],
   "source": [
    "# Test de la función dibuja_ventas_por_zona\n",
    "# La salida esperada para las ventas entre los años 1985 y 1999 es la gráfica indicada en el enunciado\n"
   ]
  },
  {
   "cell_type": "markdown",
   "metadata": {},
   "source": [
    "## Ejercicio 17\n",
    "Escribe la función **distribuidora_mas_juegos_genero**(lista_juegos, genero), que obtiene el nombre de la distribuidora con más juegos del género dado como parámetro. (2 Puntos)"
   ]
  },
  {
   "cell_type": "code",
   "execution_count": 36,
   "metadata": {},
   "outputs": [],
   "source": [
    "def distribuidora_mas_juegos_genero(lista_juegos, genero):\n",
    "    pass "
   ]
  },
  {
   "cell_type": "code",
   "execution_count": 37,
   "metadata": {},
   "outputs": [],
   "source": [
    "# Test de la función distribuidora_mas_juegos_genero\n",
    "# La salida esperada es:\n",
    "# La distribuidora con más juegos del género Role-Playing es Namco Bandai Games\n"
   ]
  },
  {
   "cell_type": "markdown",
   "metadata": {},
   "source": [
    "## Ejercicio 18\n",
    "Escribe la función **juegos_distinto_ranking_EU_NA**(lista_juegos, n), que obtiene el conjunto de los videojuegos que están en el ranking de los n más vendidos en Norteamérica pero no entre los n más vendidos en Europa, o al revés, que están entre los n más vendidos en Europa y no en Norteamérica."
   ]
  },
  {
   "cell_type": "code",
   "execution_count": 38,
   "metadata": {},
   "outputs": [],
   "source": [
    "def juegos_distinto_ranking_EU_NA(lista_juegos, n):\n",
    "    pass"
   ]
  },
  {
   "cell_type": "code",
   "execution_count": 39,
   "metadata": {},
   "outputs": [],
   "source": [
    "# Test de la función juegos_distinto_ranking_EU_NA\n",
    "# La salida esperada para n = 3 es:\n",
    "# Los juegos que están entre los 3 más vendidos solo en Europa o Norteamérica son:\n",
    "# {Juego(rank=2, name='Super Mario Bros.', platform='NES', year=1985, genre='Platform', publisher='Nintendo',\n",
    "# NA_sales=29.08, EU_sales=3.58, JP_sales=6.81, other_sales=0.77, global_sales=40.24),\n",
    "# Juego(rank=4, name='Wii Sports Resort', platform='Wii', year=2009, genre='Sports', publisher='Nintendo',\n",
    "# NA_sales=15.75, EU_sales=11.01, JP_sales=3.28, other_sales=2.96, global_sales=33.0),\n",
    "# Juego(rank=10, name='Duck Hunt', platform='NES', year=1984, genre='Shooter', publisher='Nintendo',\n",
    "# NA_sales=26.93, EU_sales=0.63, JP_sales=0.28, other_sales=0.47, global_sales=28.31),\n",
    "# Juego(rank=3, name='Mario Kart Wii', platform='Wii', year=2008, genre='Racing', publisher='Nintendo',\n",
    "# NA_sales=15.85, EU_sales=12.88, JP_sales=3.79, other_sales=3.31, global_sales=35.82)}\n"
   ]
  },
  {
   "cell_type": "markdown",
   "metadata": {},
   "source": [
    "## Ejercicio 19\n",
    "Escribe la función **juegos_mismo_ranking_EU_NA_JP**(lista_juegos, n), que obtiene el conjunto de los videojuegos que están simultáneamente entre los n primeros puestos de ventas en Europa, Norteamérica y Japón."
   ]
  },
  {
   "cell_type": "code",
   "execution_count": 40,
   "metadata": {},
   "outputs": [],
   "source": [
    "def juegos_mismo_ranking_EU_NA_JP (lista_juegos, n):\n",
    "    pass"
   ]
  },
  {
   "cell_type": "code",
   "execution_count": 41,
   "metadata": {},
   "outputs": [],
   "source": [
    "# Test de la función juegos_mismo_ranking_EU_NA_JP\n",
    "# La salida esperada para n = 12 es:\n",
    "# Los juegos que están entre los 12 más vendidos a la vez en Europa, Norteamérica y Japón son:\n",
    "# {Juego(rank=7, name='New Super Mario Bros.', platform='DS', year=2006, genre='Platform', publisher='Nintendo',\n",
    "# NA_sales=11.38, EU_sales=9.23, JP_sales=6.5, other_sales=2.9, global_sales=30.01),\n",
    "# Juego(rank=5, name='Pokemon Red/Pokemon Blue', platform='GB', year=1996, genre='Role-Playing', publisher='Nintendo',\n",
    "# NA_sales=11.27, EU_sales=8.89, JP_sales=10.22, other_sales=1.0, global_sales=31.37)}\n"
   ]
  },
  {
   "cell_type": "markdown",
   "metadata": {},
   "source": [
    "## Ejercicio 20\n",
    "Escribe la función **primer_juego_distinto**(lista_juegos), que devuelve una tupla formada por los dos videojuegos de mayor venta que ocupan una posición distinta por ventas entre los rankings de Norteamérica y Europa. Por ejemplo, si el ranking de ventas en Norteamérica lo ocupan los videojuegos (X, Y, Z) y el ranking de ventas en Europa lo ocupan los videojuegos (X, Z, V), el resultado sería (Y, Z)."
   ]
  },
  {
   "cell_type": "code",
   "execution_count": 42,
   "metadata": {},
   "outputs": [],
   "source": [
    "def primer_juego_distinto(lista_juegos):\n",
    "    pass"
   ]
  },
  {
   "cell_type": "code",
   "execution_count": 43,
   "metadata": {},
   "outputs": [],
   "source": [
    "# Test de la función primer_juego_distinto\n",
    "# La salida esperada es:\n",
    "# Los dos videojuegos de mayor venta que ocupan posiciones diferentes en Europa y Norteamérica son:\n",
    "# (Juego(rank=2, name='Super Mario Bros.', platform='NES', year=1985, genre='Platform', publisher='Nintendo',\n",
    "# NA_sales=29.08, EU_sales=3.58, JP_sales=6.81, other_sales=0.77, global_sales=40.24),\n",
    "# Juego(rank=3, name='Mario Kart Wii', platform='Wii', year=2008, genre='Racing', publisher='Nintendo',\n",
    "# NA_sales=15.85, EU_sales=12.88, JP_sales=3.79, other_sales=3.31, global_sales=35.82))\n"
   ]
  }
 ],
 "metadata": {
  "anaconda-cloud": {},
  "kernelspec": {
   "display_name": "Python 3.10.6 64-bit",
   "language": "python",
   "name": "python3"
  },
  "language_info": {
   "codemirror_mode": {
    "name": "ipython",
    "version": 3
   },
   "file_extension": ".py",
   "mimetype": "text/x-python",
   "name": "python",
   "nbconvert_exporter": "python",
   "pygments_lexer": "ipython3",
   "version": "3.10.6"
  },
  "vscode": {
   "interpreter": {
    "hash": "e7370f93d1d0cde622a1f8e1c04877d8463912d04d973331ad4851f04de6915a"
   }
  }
 },
 "nbformat": 4,
 "nbformat_minor": 2
}
