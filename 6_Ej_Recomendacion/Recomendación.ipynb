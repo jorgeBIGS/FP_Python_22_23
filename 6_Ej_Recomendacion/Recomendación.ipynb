{
 "cells": [
  {
   "cell_type": "markdown",
   "metadata": {},
   "source": [
    "# Ejercicio: Sistema de recomendación de películas\n",
    "**Autor**: Fermín Cruz.   **Revisores**: José A. Troyano, Mariano González.  **Última modificación**: 21/12/2018"
   ]
  },
  {
   "cell_type": "markdown",
   "metadata": {},
   "source": [
    "Partiendo de las puntuaciones otorgadas por un conjunto de usuarios\n",
    "a distintas películas, en el rango 1-5 (1: no me ha gustado nada, 5: me ha encantado), se trata de recomendar\n",
    "a un usuario determinado películas que puedan resultarle \n",
    "interesantes, a la vista de sus preferencias y de las del resto\n",
    "de usuarios. \n",
    "\n",
    "Para ello, vamos a representar las preferencias de un usuario mediante un vector, y luego vamos a buscar usuarios con gustos parecidos comparando sus respectivos vectores. Esto es, en esencia, lo que hacen los **sistemas de recomendación**, que son usados por páginas de venta on-line como *Amazon* o servicios de *streaming* como *Netflix* o *Spotify*.\n",
    "\n",
    "Los datos que vamos a utilizar han sido extraídos de https://grouplens.org/datasets/movielens/. Se trata de un conjunto de datos que se usa en trabajos de investigación en el campo de los sistemas de recomendación. A continuación, describimos el formato de los dos archivos que contienen los datos (se trata de archivos CSV, si no sabes qué es el formato CSV, mira aquí: https://es.wikipedia.org/wiki/Valores_separados_por_comas):\n",
    "\n",
    "* movies.csv: contiene un identificador numérico para cada película del sistema, junto a su título y géneros. Un ejemplo de su contenido:\n",
    "<pre>\n",
    "        movieId,title,genres\n",
    "        1,Toy Story (1995),Adventure|Animation|Children|Comedy|Fantasy\n",
    "        2,Jumanji (1995),Adventure|Children|Fantasy\n",
    "        3,Grumpier Old Men (1995),Comedy|Romance\n",
    "        4,Waiting to Exhale (1995),Comedy|Drama|Romance\n",
    "</pre>\n",
    "\n",
    "* ratings.csv: contiene las puntuaciones otorgadas a películas por los usuarios. Un ejemplo de su contenido:\n",
    "<pre>\n",
    "        userId,movieId,rating,timestamp\n",
    "        1,31,2.5,1260759144\n",
    "        1,1029,3.0,1260759179\n",
    "        1,1061,3.0,1260759182\n",
    "        1,1129,2.0,1260759185\n",
    "        1,1172,4.0,1260759205\n",
    "        1,1263,2.0,1260759151\n",
    "        1,1287,2.0,1260759187\n",
    "</pre>\n",
    "\n",
    "De los datos aquí mostrados, sólo nos interesan los identificadores de los usuarios, los títulos de las películas y las puntuaciones otorgadas por los usuarios a las películas; no utilizaremos ni los géneros de las películas ni los *timestamps* (que son marcas de tiempo correspondientes al momento en que el usuario puntuó a una película). \n",
    "\n",
    "Complete a continuación las definiciones de funciones que se describen."
   ]
  },
  {
   "cell_type": "markdown",
   "metadata": {},
   "source": [
    "## 1. Funciones de carga de datos"
   ]
  },
  {
   "cell_type": "markdown",
   "metadata": {},
   "source": [
    "Vamos a comenzar implementando las funciones que leerán los datos de los ficheros anteriores. Para leer archivos CSV, importaremos el siguiente módulo:"
   ]
  },
  {
   "cell_type": "code",
   "execution_count": null,
   "metadata": {
    "collapsed": true
   },
   "outputs": [],
   "source": [
    "import csv"
   ]
  },
  {
   "cell_type": "markdown",
   "metadata": {},
   "source": [
    "Para leer un CSV de una manera muy sencilla, es recomendable utilizar un objeto de tipo **DictReader**, tal como viene definido en el módulo **csv**. Aquí tienes un enlace a la documentación de este tipo: https://docs.python.org/3.1/library/csv.html#csv.DictReader. Si buscas en Google, puedes encontrar algunos ejemplos de uso: https://www.google.es/search?q=stackoverflow+dictreader+example+\"python+3\"."
   ]
  },
  {
   "cell_type": "markdown",
   "metadata": {},
   "source": [
    "### 1.1. Función carga_peliculas\n",
    "La función **carga_peliculas** recibe el nombre del fichero que almacena los títulos de las películas que se usarán en el sistema de recomendación, en formato CSV. La función debe devolver un diccionario en el que las claves serán los identificadores numéricos de las películas y los valores asociados serán los títulos de dichas películas:\n",
    "\n",
    "|  Clave: id. de película  | Valor: título         |\n",
    "|------|-----------------|\n",
    "|   1  | \"Toy Story (1995)\"|\n",
    "|   2  | \"Jumanji (1995)\"|\n",
    "|   3  | \"Grumpier Old Men (1995)\"|\n",
    "|   4  | \"Waiting to Exhale (1995)\"|\n",
    "|  ... | ...|\n",
    "Es importante que almacenemos los identificadores como números enteros, no como cadenas de texto. Ten en cuenta que DictReader devuelve cada dato como una cadena de texto, y que para convertir dichas cadenas a números enteros debemos usar la función predefinida **int**."
   ]
  },
  {
   "cell_type": "code",
   "execution_count": null,
   "metadata": {
    "collapsed": true
   },
   "outputs": [],
   "source": [
    "def carga_peliculas(filename):\n",
    "    ''' Lee de un fichero los datos de las películas\n",
    "    \n",
    "    ENTRADA:\n",
    "       - filename: nombre del fichero con los datos de las películas -> str\n",
    "    SALIDA:\n",
    "       - diccionario que asocia a cada identificador el título de la película -> {int: str} \n",
    "    \n",
    "    El fichero debe usar UTF-8 como formato de codificación de caracteres.\n",
    "\n",
    "    Ejemplo del formato del CSV:\n",
    "    movieId,title,genres\n",
    "    1,Toy Story (1995),Adventure|Animation|Children|Comedy|Fantasy\n",
    "    2,Jumanji (1995),Adventure|Children|Fantasy\n",
    "    3,Grumpier Old Men (1995),Comedy|Romance\n",
    "     ...\n",
    "\n",
    "    Devuelve un diccionario en el que las claves son los identificadores y el \n",
    "    valor asociado es el título de la película.\n",
    "    Ejemplo:\n",
    "    {1:'Toy Story', 2:'Jumanji', 3:'Grumpier Old Men', ...}\n",
    "    '''\n",
    "    pass"
   ]
  },
  {
   "cell_type": "code",
   "execution_count": null,
   "metadata": {
    "collapsed": true
   },
   "outputs": [],
   "source": [
    "# Aquí una pequeña prueba para ver si funciona bien tu función.\n",
    "# Debes tener el archivo \"movies.csv\" disponible en la carpeta data\n",
    "# en la ruta en la que estás ejecutando este notebook.\n",
    "\n",
    "peliculas = carga_peliculas(\"data/movies.csv\")\n",
    "print(\"Mostrando las primeras 10 películas:\")\n",
    "print(list(peliculas.items())[:10])"
   ]
  },
  {
   "cell_type": "markdown",
   "metadata": {},
   "source": [
    "---"
   ]
  },
  {
   "cell_type": "markdown",
   "metadata": {},
   "source": [
    "### 1.2. Función carga_puntuaciones\n",
    "La función **carga_puntuaciones** lee los datos del fichero que almacena las puntuaciones otorgadas por los usuarios a las películas. En parte, la función es similar a la anterior, pues los datos deben cargarse a partir de un archivo CSV. Sin embargo, en esta ocasión el diccionario a devolver es un poco más complejo en su estructura: las claves serán los identificadores de los usuarios, y los valores asociados serán a su vez **diccionarios** en los que las claves son títulos de películas y los valores asociados son las puntuaciones dadas por el usuario a cada película, entre 1.0 y 5.0.\n",
    "\n",
    "\n",
    "|  Clave: id de usuario  | Valor: diccionario de puntuaciones  |\n",
    "|------|-----------------|\n",
    "|   1  | Puntuaciones del usuario 1|\n",
    "|   2  | Puntuaciones del usuario 2|\n",
    "|   3  | Puntuaciones del usuario 3|\n",
    "|   4  | Puntuaciones del usuario 4|\n",
    "|   ...  | ...|\n",
    "\n",
    "Veamos como ejempo uno de los diccionarios de puntuaciones:\n",
    "\n",
    "|  Clave: título de película | Valor: puntuación  |\n",
    "|------|-----------------|\n",
    "|   'Dangerous Minds (1995)'  | 2.5|\n",
    "|   'Dumbo (1941)'   | 3.0|\n",
    "|   'Sleepers (1996)'  | 3.0|\n",
    "|   'Escape from New York (1981)' | 2.0|\n",
    "|   ...  | ...|\n",
    "\n",
    "Al igual que antes, es importante que almacenemos los números enteros y reales como tales, y no como cadenas de texto, pues esto nos facilitará más adelante hacer operaciones aritméticas con dichos valores. Utiliza para ello las funciones predefinidas **int** y **float**."
   ]
  },
  {
   "cell_type": "code",
   "execution_count": null,
   "metadata": {
    "collapsed": true
   },
   "outputs": [],
   "source": [
    "def carga_puntuaciones(filename, peliculas):\n",
    "    ''' Lee de un fichero los datos de las puntuaciones\n",
    "    \n",
    "    ENTRADA:\n",
    "       - filename: nombre del fichero con los datos de las películas -> str\n",
    "       - peliculas: diccionario que asocia a cada identificador el título de la película -> {int: str} \n",
    "    SALIDA:\n",
    "       - diccionario con las puntuaciones de las peliculas valoradas por cada usuario -> {int: {str: float}} \n",
    "    \n",
    "    Ejemplo del formato del CSV:\n",
    "    userId,movieId,rating,timestamp\n",
    "    1,31,2.5,1260759144\n",
    "    1,1029,3.0,1260759179\n",
    "    1,1061,3.0,1260759182\n",
    "    1,1129,2.0,1260759185\n",
    "     ...\n",
    "\n",
    "    Devuelve un diccionario en el que las claves son los identificadores de\n",
    "    los usuarios, y los valores asociados son a su vez diccionarios en los que\n",
    "    las claves son los títulos de las películas y los valores asociados las\n",
    "    puntuaciones dadas por el usuario a esa película, entre 1.0 y 5.0.\n",
    "    Ejemplo:\n",
    "    {1:{'Dangerous Minds (1995)': 2.5, 'Dumbo (1941)': 3.0, 'Sleepers (1996)': 3.0, ...}, 2:{...}, ...}\n",
    "    '''\n",
    "    pass"
   ]
  },
  {
   "cell_type": "code",
   "execution_count": null,
   "metadata": {
    "collapsed": true
   },
   "outputs": [],
   "source": [
    "# Aquí tienes una prueba del método anterior.\n",
    "# El archivo \"ratings.csv\" debe estar disponible en la ruta en la que estás ejecutando este notebook.\n",
    "puntuaciones = carga_puntuaciones(\"data/ratings.csv\", peliculas)\n",
    "print(\"Mostrando la puntuaciones del primer usuario:\")\n",
    "print(puntuaciones[1])"
   ]
  },
  {
   "cell_type": "markdown",
   "metadata": {},
   "source": [
    "---"
   ]
  },
  {
   "cell_type": "markdown",
   "metadata": {},
   "source": [
    "### 1.3. Número total de películas y puntuaciones \n",
    "Ahora que tenemos las películas y las puntuaciones cargadas en variables, podemos responder algunas preguntas. Intenta escribir el código necesario para hallar las respuestas:"
   ]
  },
  {
   "cell_type": "code",
   "execution_count": null,
   "metadata": {
    "collapsed": true
   },
   "outputs": [],
   "source": [
    "# ¿Cuántas películas hay en nuestros archivos de datos?\n",
    "pass\n",
    "\n",
    "# ¿Cuántos usuarios hay en nuestros archivos de datos?\n",
    "pass\n"
   ]
  },
  {
   "cell_type": "markdown",
   "metadata": {},
   "source": [
    "---"
   ]
  },
  {
   "cell_type": "markdown",
   "metadata": {},
   "source": [
    "<span style=\"color:blue;font-weight:bold\"> ֍ EJERCICIO AVANZADO 1</span>"
   ]
  },
  {
   "cell_type": "code",
   "execution_count": null,
   "metadata": {
    "collapsed": true
   },
   "outputs": [],
   "source": [
    "# ¿Cuál es el usuario que ha puntuado más películas?\n",
    "pass\n",
    "\n",
    "# ¿Cuál es la película más vista por los usuarios del sistema?\n",
    "from collections import Counter\n",
    "pass\n",
    "\n",
    "# ¿Cuál es la media de las puntuaciones en el sistema?\n",
    "pass\n",
    "\n",
    "# La salida esperada es:\n",
    "# Usuario más activo: 547 (2391 películas puntuadas)\n",
    "# Película más vista por los usuarios del sistema: Forrest Gump (1994)\n",
    "# Media de puntuaciones en el sistema:  3.543608255669773"
   ]
  },
  {
   "cell_type": "markdown",
   "metadata": {},
   "source": [
    "---"
   ]
  },
  {
   "cell_type": "markdown",
   "metadata": {},
   "source": [
    "## 2. Funciones de visualización de puntuaciones"
   ]
  },
  {
   "cell_type": "markdown",
   "metadata": {},
   "source": [
    "### 2.1 Función muestra_puntuaciones\n",
    "Para visualizar los gustos de un usuario determinado, nos va a resultar útil disponer de una función que nos muestre la información con el siguiente formato:\n",
    "\n",
    "<pre>\n",
    "Puntuaciones del usuario 1\n",
    "\tPelícula: Cinema Paradiso (Nuovo cinema Paradiso) (1989) - Puntuación: 4.0\n",
    "\tPelícula: French Connection, The (1971) - Puntuación: 4.0\n",
    "\tPelícula: Tron (1982) - Puntuación: 4.0\n",
    "\tPelícula: Dracula (Bram Stoker's Dracula) (1992) - Puntuación: 3.5\n",
    "    ...\n",
    "</pre>\n",
    "\n",
    "Fíjate en que queremos que aparezcan en primer lugar las películas con mejores puntuaciones. Completa a continuación la definición de la función correspondiente."
   ]
  },
  {
   "cell_type": "code",
   "execution_count": null,
   "metadata": {
    "collapsed": true
   },
   "outputs": [],
   "source": [
    "def muestra_puntuaciones(id_usuario, puntuaciones):\n",
    "    ''' Muestra las puntuaciones de un usuario\n",
    "    \n",
    "    ENTRADA:\n",
    "       - id_usuario: identificador del usuario -> int\n",
    "       - puntuaciones: diccionario de puntuaciones -> {int: {str: float}} \n",
    "    SALIDA EN PANTALLA:\n",
    "       - listado con las puntuaciones de las películas valoradas por el usuario \n",
    "\n",
    "    Las películas se muestran ordenadas de mejor a peor, es decir, primero se muestran\n",
    "    las películas que más han gustado al usuario.\n",
    "\n",
    "    Ejemplo de salida de la función:\n",
    "    Puntuaciones del usuario 1\n",
    "        Película: Cinema Paradiso (Nuovo cinema Paradiso) (1989) Puntuación: 4.0\n",
    "        Película: French Connection, The (1971) Puntuación: 4.0\n",
    "        Película: Tron (1982) Puntuación: 4.0\n",
    "        Película: Dracula (Bram Stoker's Dracula) (1992) Puntuación: 3.5\n",
    "        Película: Dumbo (1941) Puntuación: 3.0\n",
    "        Película: Sleepers (1996) Puntuación: 3.0\n",
    "        ...\n",
    "    '''\n",
    "    pass"
   ]
  },
  {
   "cell_type": "code",
   "execution_count": null,
   "metadata": {
    "collapsed": true
   },
   "outputs": [],
   "source": [
    "# Probemos la función anterior\n",
    "muestra_puntuaciones(1,puntuaciones)"
   ]
  },
  {
   "cell_type": "markdown",
   "metadata": {},
   "source": [
    "---"
   ]
  },
  {
   "cell_type": "markdown",
   "metadata": {},
   "source": [
    "### 2.2. Función muestra_puntuaciones_comunes\n",
    "Otra función de visualización que nos será útil más adelante es la que hemos llamado **muestra_puntuaciones_comunes**. Dados dos usuarios, se trata de mostrar las puntuaciones de aquellas películas que han sido puntuadas por los dos usuarios. Usaremos el siguiente formato:\n",
    "\n",
    "<pre>\n",
    "    Puntuaciones para películas comunes de los usuarios 1 y 4\n",
    "        Película: Star Trek: The Motion Picture (1979) Puntuaciones: 2.5 - 4.0\n",
    "        Película: French Connection, The (1971) Puntuaciones: 4.0 - 5.0\n",
    "        Película: Tron (1982) Puntuaciones: 4.0 - 4.0\n",
    "    ...\n",
    "</pre>\n",
    "\n",
    "Completa a continuación la definición de la función correspondiente."
   ]
  },
  {
   "cell_type": "code",
   "execution_count": null,
   "metadata": {
    "collapsed": true
   },
   "outputs": [],
   "source": [
    "def muestra_puntuaciones_comunes(id_usuario1, id_usuario2, puntuaciones):\n",
    "    ''' Muestra las puntuaciones de las películas valoradas por dos usuarios\n",
    "    \n",
    "    ENTRADA:\n",
    "       - id_usuario1: identificador del primer usuario -> int\n",
    "       - id_usuario2: identificador del segundo usuario -> int\n",
    "       - puntuaciones: diccionario de puntuaciones -> {int: {str: float}} \n",
    "    SALIDA EN PANTALLA:\n",
    "       - listado con las puntuaciones de las películas valoradas por ambos usuarios \n",
    "    \n",
    "    Ejemplo de salida por consola:\n",
    "    Puntuaciones para películas comunes de los usuarios 1 y 4\n",
    "        Película: Star Trek: The Motion Picture (1979) Puntuaciones: 2.5 - 4.0\n",
    "        Película: French Connection, The (1971) Puntuaciones: 4.0 - 5.0\n",
    "        Película: Tron (1982) Puntuaciones: 4.0 - 4.0\n",
    "        Película: Willow (1988) Puntuaciones: 2.0 - 3.0\n",
    "        Película: Time Bandits (1981) Puntuaciones: 1.0 - 5.0\n",
    "     ...\n",
    "    '''\n",
    "    pass"
   ]
  },
  {
   "cell_type": "code",
   "execution_count": null,
   "metadata": {
    "collapsed": true
   },
   "outputs": [],
   "source": [
    "# Probemos la función anterior\n",
    "muestra_puntuaciones_comunes(1, 4, puntuaciones)"
   ]
  },
  {
   "cell_type": "markdown",
   "metadata": {},
   "source": [
    "## 3. Funciones de similitud"
   ]
  },
  {
   "cell_type": "markdown",
   "metadata": {},
   "source": [
    "La manera en que mediremos cuánto se parecen dos usuarios será comparando las puntuaciones que han dado a las películas del sistema. Podemos imaginarnos a cada usuario como un **vector** de tantas posiciones como películas hay en el sistema; en cada posición del vector tendremos un 0 si el usuario no ha puntuado a la película correspondiente, o un número real entre 1 y 5 con la puntuación dada por el usuario a la película. \n",
    "\n",
    "Los diccionarios que hemos leído en la función *carga_puntuaciones* para cada usuario son una representación compacta de estos vectores, en la que hemos obviado los numerosos ceros. Por ejemplo, el diccionario correspondiente al usuario cuyo identificador es 1 es el siguiente:"
   ]
  },
  {
   "cell_type": "code",
   "execution_count": null,
   "metadata": {
    "collapsed": true
   },
   "outputs": [],
   "source": [
    "puntuaciones[1]"
   ]
  },
  {
   "cell_type": "markdown",
   "metadata": {},
   "source": [
    "### 3.1. Función similitud_coseno\n",
    "Para comparar los vectores correspondientes a dos usuarios utilizaremos la **similitud del coseno**. Esta medida consiste en calcular el coseno del ángulo que forman los dos vectores, de manera que si ambos vectores \"apuntan\" en la misma dirección, el valor de similitud tendrá el valor máximo (1.0), y si apuntan en direcciones completamente opuestas tendrá el valor mínimo (-1.0). La fórmula para calcular la similitud del coseno es la siguiente (siendo **x** e **y** los vectores que queremos comparar):\n",
    "\n",
    "$$ cos(\\pmb x, \\pmb y) = \\frac {\\pmb x \\cdot \\pmb y}{||\\pmb x|| \\cdot ||\\pmb y||} $$\n",
    "\n",
    "En esta fórmula, $\\pmb x \\cdot \\pmb y$ representa el **producto escalar** de los vectores, y $||\\pmb x||$ e $||\\pmb y||$ son el **módulo** de $\\pmb x$ e $\\pmb y$, respectivamente. En caso de que alguno de los vectores esté formado únicamente por ceros, el módulo sería 0, en cuyo caso la fórmula anterior no podría calcularse; en dicho caso, diremos que la similitud del coseno es igual a 0.\n",
    "\n",
    "Si no sabes cómo se calcula el producto escalar o el módulo, haz una búsqueda en internet.\n",
    "\n",
    "Ya sabes todo lo necesario para definir la función **similitud_coseno**. Antes, tendrás que definir las funciones auxiliares **producto_escalar** y **modulo**."
   ]
  },
  {
   "cell_type": "code",
   "execution_count": null,
   "metadata": {
    "collapsed": true
   },
   "outputs": [],
   "source": [
    "import math\n",
    "\n",
    "def modulo(puntuaciones_usuario):\n",
    "    ''' Calcula el módulo de un vector de puntuaciones\n",
    "    \n",
    "    ENTRADA:\n",
    "       - puntuaciones_usuario: diccionario de puntuaciones de un usuario -> {str: float} \n",
    "    SALIDA:\n",
    "       - módulo del vector de puntuaciones definido por el diccionario\n",
    "\n",
    "    Ejemplo de diccionario de puntuaciones:\n",
    "    {'Dangerous Minds (1995)': 2.5, 'Dumbo (1941)': 3.0, 'Sleepers (1996)': 3.0, ...}\n",
    "    '''\n",
    "    pass"
   ]
  },
  {
   "cell_type": "code",
   "execution_count": null,
   "metadata": {
    "collapsed": true
   },
   "outputs": [],
   "source": [
    "# Probemos la función modulo\n",
    "print(\"Módulo del vector del usuario 1:\", modulo(puntuaciones[1])) # debe ser 12.041594578792296"
   ]
  },
  {
   "cell_type": "code",
   "execution_count": null,
   "metadata": {
    "collapsed": true
   },
   "outputs": [],
   "source": [
    "def producto_escalar(puntuaciones_usuario1, puntuaciones_usuario2):\n",
    "    ''' Calcula el producto escalar de dos vectores de puntuaciones\n",
    "    \n",
    "    ENTRADA:\n",
    "       - puntuaciones_usuario1: diccionario de puntuaciones del primer usuario -> {str: float}\n",
    "       - puntuaciones_usuario2: diccionario de puntuaciones del segundo usuario -> {str: float} \n",
    "    SALIDA:\n",
    "       - producto escalar de los vectores definidos por ambos diccionarios  \n",
    "    '''\n",
    "    pass"
   ]
  },
  {
   "cell_type": "code",
   "execution_count": null,
   "metadata": {
    "collapsed": true
   },
   "outputs": [],
   "source": [
    "# Probemos la función productor_escalar\n",
    "print(\"Producto escalar entre los usuarios 1 y 4:\", producto_escalar(puntuaciones[1], puntuaciones[4])) # debe ser 57.0"
   ]
  },
  {
   "cell_type": "code",
   "execution_count": null,
   "metadata": {
    "collapsed": true
   },
   "outputs": [],
   "source": [
    "def similitud_coseno(puntuaciones_usuario1, puntuaciones_usuario2):\n",
    "    ''' Calcula la similitud del coseno entre dos vectores de puntuaciones\n",
    "    \n",
    "    ENTRADA:\n",
    "       - puntuaciones_usuario1: diccionario de puntuaciones del primer usuario -> {str: float}\n",
    "       - puntuaciones_usuario2: diccionario de puntuaciones del segundo usuario -> {str: float} \n",
    "    SALIDA:\n",
    "       - similitud del coseno entre los vectores definidos por ambos diccionarios  \n",
    "    '''\n",
    "    pass"
   ]
  },
  {
   "cell_type": "code",
   "execution_count": null,
   "metadata": {
    "collapsed": true
   },
   "outputs": [],
   "source": [
    "# Probemos la función similitud_coseno\n",
    "vector_usuario1 = puntuaciones[1]\n",
    "vector_usuario2 = puntuaciones[2]\n",
    "vector_usuario4 = puntuaciones[4]\n",
    "print(\"Similitud usuario 1 consigo mismo:\",similitud_coseno(vector_usuario1,vector_usuario1)) # debe ser 1.0\n",
    "print(\"Similitud usuario 1 con usuario 2:\",similitud_coseno(vector_usuario1,vector_usuario2)) # debe ser 0.0\n",
    "print(\"Similitud usuario 1 con usuario 4:\",similitud_coseno(vector_usuario1,vector_usuario4)) # debe ser 0.07448"
   ]
  },
  {
   "cell_type": "markdown",
   "metadata": {},
   "source": [
    "---"
   ]
  },
  {
   "cell_type": "markdown",
   "metadata": {},
   "source": [
    "### 3.2. Función busca_usuario_mas_parecido\n",
    "Ya tenemos una función que nos permite medir cómo de parecidos son dos usuarios cualesquiera. Usando esta función, podemos decidir qué usuario se parece más a uno determinado. Esto es precisamente lo que debe hacer la función **busca_usuario_mas_parecido**. \n",
    "\n",
    "**Truco**: la función predefinida **max** devuelve el máximo de una lista. Si quieres que los elementos de la lista se comparen entre sí de una manera determinada, usar el parámetro **key**. Es posible que para usar este parámetro debas escribir una expresión **lambda**. Si no sabes lo que es, aquí tienes algo de información: https://docs.python.org/3/tutorial/controlflow.html#lambda-expressions"
   ]
  },
  {
   "cell_type": "code",
   "execution_count": null,
   "metadata": {
    "collapsed": true
   },
   "outputs": [],
   "source": [
    "def busca_usuario_mas_parecido(id_usuario, puntuaciones):\n",
    "    ''' Identifica el usuario más parecido a uno dado\n",
    "    \n",
    "    ENTRADA:\n",
    "       - id_usuario: identificador del usuario -> int\n",
    "       - puntuaciones: diccionario de puntuaciones -> {int: {str: float}} \n",
    "    SALIDA:\n",
    "       - identificador del usuario más parecido al indicado, según sus preferencias\n",
    "    \n",
    "    El cálculo del usuario más parecido se hace utilizando la similitud\n",
    "    del coseno entre los vectores definidos por las listas de puntuaciones\n",
    "    de películas de los usuarios.\n",
    "    '''\n",
    "    pass"
   ]
  },
  {
   "cell_type": "code",
   "execution_count": null,
   "metadata": {
    "collapsed": true
   },
   "outputs": [],
   "source": [
    "# Probemos la función anterior\n",
    "usuario_mas_parecido = busca_usuario_mas_parecido(2, puntuaciones)\n",
    "muestra_puntuaciones_comunes(2,usuario_mas_parecido,puntuaciones)"
   ]
  },
  {
   "cell_type": "markdown",
   "metadata": {},
   "source": [
    "## 4. Funciones de recomendación "
   ]
  },
  {
   "cell_type": "markdown",
   "metadata": {},
   "source": [
    "Ya tenemos todo lo necesario para poder hacer recomendaciones de películas a un usuario *u*. Lo vamos a hacer de la siguiente manera:\n",
    "* Buscaremos al usuario más parecido a *u*. Lo podemos llamar *u'*.\n",
    "* Construiremos un conjunto con aquellas películas puntuadas por el usuario *u'* con una buena nota (por ejemplo, al menos un 3) y que no hayan sido vistas por *u* (o, al menos, que no las haya puntuado; que haya visto más películas de las que ha puntuado es algo que no podemos saber...).\n",
    "\n",
    "Es decir, le recomendaremos a un usuario aquellas películas que otro usuario, cuyos gustos se parecen mucho a los suyos, ha visto y ha puntuado con buena nota. \n",
    "\n",
    "Completa la definición de la función **muestra_recomendaciones_simple**. "
   ]
  },
  {
   "cell_type": "code",
   "execution_count": null,
   "metadata": {
    "collapsed": true
   },
   "outputs": [],
   "source": [
    "def muestra_recomendaciones_simple(id_usuario, puntuaciones, umbral_recomendacion=3.0):\n",
    "    ''' Muestra las películas recomendadas para el usuario en fución del usuario más parecido\n",
    "    \n",
    "    ENTRADA:\n",
    "       - id_usuario: identificador del usuario -> int\n",
    "       - puntuaciones: diccionario de puntuaciones -> {int: {str: float}}\n",
    "       - umbral_recomendacion: puntuación mínima para que una película sea recomendada -> float\n",
    "    SALIDA EN PANTALLA:\n",
    "       - listado de las películas recomendadas para el usuario\n",
    "      \n",
    "    Las películas recomendadas serán aquellas puntuadas con 3 o más puntos\n",
    "    por el usuario más parecido, que no hayan sido vistas por el usuario\n",
    "    al que se le hace la recomendación. La puntuación mínima de las\n",
    "    películas a recomendar puede ser modificada mediante el parámetro \n",
    "    umbral_recomendacion.\n",
    "    \n",
    "    Ejemplo de salida por consola:\n",
    "    Películas recomendadas para el usuario 2\n",
    "        Shawshank Redemption, The (1994)\n",
    "        Don Juan DeMarco (1995)\n",
    "        Jumanji (1995)\n",
    "     ...\n",
    "    '''\n",
    "    pass"
   ]
  },
  {
   "cell_type": "code",
   "execution_count": null,
   "metadata": {
    "collapsed": true
   },
   "outputs": [],
   "source": [
    "# Probemos la función anterior\n",
    "muestra_recomendaciones_simple(2,puntuaciones)"
   ]
  },
  {
   "cell_type": "markdown",
   "metadata": {},
   "source": [
    "<span style=\"color:blue;font-weight:bold\"> ֍ EJERCICIO AVANZADO 2</span>"
   ]
  },
  {
   "cell_type": "markdown",
   "metadata": {},
   "source": [
    "Una posible mejora del algoritmo de recomendación consiste en basarse no sólo en el usuario más parecido, sino en los *n* usuarios más parecidos. En dicho caso, la recomendación consistiría en las películas que hayan sido puntuadas con buena nota por esos *n* usuarios (por **todos** ellos), y que no hayan sido puntuadas por el usuario al que se le hace la recomendación.\n",
    "\n",
    "¿Serías capaz de implementar este algoritmo?"
   ]
  },
  {
   "cell_type": "code",
   "execution_count": null,
   "metadata": {
    "collapsed": true
   },
   "outputs": [],
   "source": [
    "def muestra_recomendaciones(id_usuario, puntuaciones, radio=2, umbral_recomendacion=3.0):\n",
    "    ''' Muestra las películas recomendadas para el usuario en función de los usuarios más parecidos\n",
    "    \n",
    "    ENTRADA:\n",
    "       - id_usuario: identificador del usuario -> int\n",
    "       - puntuaciones: diccionario de puntuaciones -> {int: {str: float}}\n",
    "       - radio: número de usuarios en los que se basa la recomendación -> int\n",
    "       - umbral_recomendacion: puntuación mínima para que una película sea recomendada -> float\n",
    "    SALIDA EN PANTALLA:\n",
    "       - listado de las películas recomendadas para el usuario\n",
    "    \n",
    "    Las películas recomendadas serán aquellas puntuadas con 3 o más puntos\n",
    "    por los usuarios más parecidos, que no hayan sido vistas por el usuario\n",
    "    al que se le hace la recomendación. El valor umbral puede ser modificado\n",
    "    mediante el parámetro \"umbral_recomendacion\". \n",
    "      \n",
    "    Ejemplo de salida por consola:\n",
    "    Películas recomendadas para el usuario 2\n",
    "     Star Wars: Episode I - The Phantom Menace (1999)\n",
    "     Indiana Jones and the Last Crusade (1989)\n",
    "     Star Wars: Episode V - The Empire Strikes Back (1980)\n",
    "     ...\n",
    "    '''\n",
    "    pass"
   ]
  },
  {
   "cell_type": "code",
   "execution_count": null,
   "metadata": {
    "collapsed": true
   },
   "outputs": [],
   "source": [
    "# Probemos la función anterior\n",
    "muestra_recomendaciones(2,puntuaciones,3)"
   ]
  },
  {
   "cell_type": "markdown",
   "metadata": {},
   "source": [
    "---"
   ]
  },
  {
   "cell_type": "markdown",
   "metadata": {},
   "source": [
    "## 5. ¿No sabes qué peli ver? "
   ]
  },
  {
   "cell_type": "markdown",
   "metadata": {},
   "source": [
    "Vamos a intentar generar unas recomendaciones personalizadas a tus gustos. Para ello, necesitamos introducirte en el sistema con algunas puntuaciones.\n",
    "\n",
    "La ejecución del siguiente código te mostrará las 50 películas que más veces aparecen puntuadas (bien o mal) en los datos de los que partimos."
   ]
  },
  {
   "cell_type": "code",
   "execution_count": null,
   "metadata": {
    "collapsed": true
   },
   "outputs": [],
   "source": [
    "from collections import Counter\n",
    "conteo = Counter([pelicula for punt_usuario in puntuaciones.values() for pelicula, puntuacion in punt_usuario.items()])\n",
    "print(\"Las 50 películas más vistas por los usuarios del sistema:\")\n",
    "\n",
    "for pelicula, _ in sorted(conteo.most_common(50), key=lambda t:t[0]):\n",
    "    print(pelicula)"
   ]
  },
  {
   "cell_type": "markdown",
   "metadata": {},
   "source": [
    "Lo que tienes que hacer ahora es escoger algunas películas de la lista que hayas visto y otorgarles una puntuación de 1 a 5. Pongamos que te asignamos el identificador de usuario *999*. \n",
    "\n",
    "Completa con tus valoraciones el diccionario de abajo y ejecuta el código para obtener tus recomendaciones personalizadas. Recuerda que para cada valoración debes añadir el título de la película (una cadena de caracteres) como clave y la puntuación que quieres darle (un número real) como valor asociado."
   ]
  },
  {
   "cell_type": "code",
   "execution_count": null,
   "metadata": {
    "collapsed": true
   },
   "outputs": [],
   "source": [
    "puntuaciones[999] = {'Forrest Gump (1994)':4.0,\n",
    "                      'Pulp Fiction (1994)': 5.0,\n",
    "                      'Silence of the Lambs, The (1991)': 4.0,\n",
    "                      'Jurassic Park (1993)': 3.0,\n",
    "                      'Men in Black (a.k.a. MIB) (1997)': 1.0,\n",
    "                      'Titanic (1997)': 1.0,\n",
    "                      'Shrek (2001)': 5.0,\n",
    "                      'Sixth Sense, The (1999)': 5.0}\n",
    "                     \n",
    "muestra_recomendaciones_simple(999,puntuaciones)"
   ]
  },
  {
   "cell_type": "markdown",
   "metadata": {},
   "source": [
    "<span style=\"color:blue;font-weight:bold\"> ֍ EJERCICIO AVANZADO 3</span>"
   ]
  },
  {
   "cell_type": "markdown",
   "metadata": {},
   "source": [
    "Como habrás observado, el procedimiento que hemos seguido para obtener tus recomendaciones personalizadas no es muy cómodo... Te proponemos que implementes un programa más cómodo para el usuario, que funcione de la siguiente manera:\n",
    "\n",
    "* Escoger las 200 películas más vistas.\n",
    "* Mostrar una aleatoriamente al usuario, y preguntarle por una puntuación (el usuario introducirá un cero si no la ha visto).\n",
    "* Repetir el proceso hasta tener un número determinado de películas con valoraciones.\n",
    "* Realizar las recomendaciones de películas al usuario basadas en estas valoraciones.\n",
    "\n",
    "Para llevar a cabo este ejercicio vas a necesitar buscar información sobre cómo realizar algunas tareas:\n",
    "* ¿Cómo seleccionar aleatoriamente elementos de una lista? (https://docs.python.org/3/library/random.html)\n",
    "* ¿Cómo leer desde el teclado valores de tipo numérico y almacenarlos en variables? (https://docs.python.org/3/library/functions.html#input)\n"
   ]
  }
 ],
 "metadata": {
  "anaconda-cloud": {},
  "kernelspec": {
   "display_name": "Python 3",
   "language": "python",
   "name": "python3"
  },
  "language_info": {
   "codemirror_mode": {
    "name": "ipython",
    "version": 3
   },
   "file_extension": ".py",
   "mimetype": "text/x-python",
   "name": "python",
   "nbconvert_exporter": "python",
   "pygments_lexer": "ipython3",
   "version": "3.6.1"
  }
 },
 "nbformat": 4,
 "nbformat_minor": 1
}
