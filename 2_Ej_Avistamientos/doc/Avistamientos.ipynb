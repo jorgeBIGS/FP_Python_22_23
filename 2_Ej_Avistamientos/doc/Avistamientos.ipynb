{
 "cells": [
  {
   "cell_type": "markdown",
   "metadata": {},
   "source": [
    "# Ejercicio: Avistamientos\n",
    "**Autores**: Daniel Mateos, Mariano González      **Revisores**: Fermín Cruz, Toñi Reina, José C. Riquelme.     **Última modificación:** 22/11/2019"
   ]
  },
  {
   "cell_type": "markdown",
   "metadata": {},
   "source": [
    "En este ejercicio vamos a trabajar con un conjunto de datos con información sobre avistamientos de objetos voladores no identificados (OVNIs) en los Estados Unidos. El objetivo del ejercicio es leer estos datos y realizar distintas operaciones con ellos. Cada operación se implementará en una función distinta.\n",
    "\n",
    "Antes de comenzar, importaremos los módulos que necesitamos para realizar el ejercicio:"
   ]
  },
  {
   "cell_type": "code",
   "execution_count": null,
   "metadata": {
    "scrolled": true
   },
   "outputs": [],
   "source": [
    "import csv\n",
    "from datetime import datetime\n",
    "from math import sqrt\n",
    "from collections import namedtuple, Counter"
   ]
  },
  {
   "cell_type": "markdown",
   "metadata": {},
   "source": [
    "## 1. Carga de datos\n",
    "Los datos se encuentran almacenados en un fichero en formato CSV codificado en UTF-8. Cada registro del fichero ocupa una línea y contiene los datos correspondientes a un avistamiento: fecha y hora en la que se produjo del avistamiento, ciudad y acrónimo del estado donde se produjo, forma observada del avistamiento, duración en segundos, una descripción textual del avistamiento y la latitud y longitud del lugar donde se produjo.\n",
    "\n",
    "Estas son las primeras líneas del fichero (acortando la descripción del avistamiento). La primera línea es una cabecera que contiene los nombres de los campos del registro:\n",
    "\n",
    "    datetime,city,state,shape,duration,comments,latitude,longitude\n",
    "    07/04/2011 22:00,muncie,in,light,240, ((HOAX??)) 4th  of July ufo...,40.1933333,-85.3863889\n",
    "    04/07/2005 17:01,deming (somewhere near),nm,changing,1200, ((NUFORC...,32.2686111,-107.7580556\n",
    "    03/12/2010 19:56,erie,pa,changing,300, 3/12/10Viewed a comet like...,42.1291667,-80.0852778\n",
    "    07/04/2013 22:25,seattle,wa,unknown,600, A RED Light was seen over...,47.6063889,-122.3308333"
   ]
  },
  {
   "cell_type": "markdown",
   "metadata": {},
   "source": [
    "### 1.1 Función de lectura de datos"
   ]
  },
  {
   "cell_type": "markdown",
   "metadata": {},
   "source": [
    "Nuestra primera función será la encargada de leer el fichero con los avistamientos y construir a partir de él una estructura de datos en memoria, que será una lista de tuplas. Cada avistamiento se representará por una tupla a la cual daremos el nombre 'Avistamiento'."
   ]
  },
  {
   "cell_type": "code",
   "execution_count": null,
   "metadata": {
    "scrolled": true
   },
   "outputs": [],
   "source": [
    "# Creación de una tupla con nombre para los avistamientos\n",
    "Avistamiento = namedtuple('Avistamiento',\n",
    "    'fechahora, ciudad, estado, forma, duracion, comentarios, latitud, longitud')\n",
    "\n",
    "# Función de lectura que crea una lista de avistamientos\n",
    "def lee_avistamientos(fichero):\n",
    "    '''\n",
    "    Lee un fichero de entrada y devuelve una lista de tuplas. \n",
    "    Para convertir la cadena con la fecha y la hora al tipo datetime, usar\n",
    "        datetime.strptime(fecha_hora,'%m/%d/%Y %H:%M')    \n",
    "    \n",
    "    ENTRADA:\n",
    "       - fichero: ruta del fichero csv que contiene los datos en codificación utf-8 \n",
    "            -> str\n",
    "    SALIDA:\n",
    "       - avistamientos: lista de tuplas con la información de los avistamientos \n",
    "            -> [Avistamiento(datetime, str, str, str, str, int, str, float, float)]   \n",
    "    '''\n",
    "    pass "
   ]
  },
  {
   "cell_type": "code",
   "execution_count": null,
   "metadata": {
    "scrolled": true
   },
   "outputs": [],
   "source": [
    "# Test de la función lee_avistamientos\n",
    "avistamientos = lee_avistamientos('./data/ovnis.csv')\n",
    "print(avistamientos[:5])"
   ]
  },
  {
   "cell_type": "markdown",
   "metadata": {},
   "source": [
    "Una vez leídos los datos, vamos a realizar diversas operaciones con ellos. Dividiremos estas operaciones en tres bloques."
   ]
  },
  {
   "cell_type": "markdown",
   "metadata": {},
   "source": [
    "## 2. Operaciones de filtrado, conteo y suma"
   ]
  },
  {
   "cell_type": "markdown",
   "metadata": {},
   "source": [
    "### 2.1 Número de avistamientos producidos en una fecha"
   ]
  },
  {
   "cell_type": "markdown",
   "metadata": {},
   "source": [
    "Función que obtiene el número total de avistamientos que se han producido en una fecha determinada, dada por su día, mes y año. Se contarán, por tanto, los avistamientos que hayan tenido lugar a cualquier hora del día."
   ]
  },
  {
   "cell_type": "code",
   "execution_count": null,
   "metadata": {
    "scrolled": true
   },
   "outputs": [],
   "source": [
    "def numero_avistamientos_fecha(avistamientos, fecha):\n",
    "    ''' Avistamientos que se han producido en una fecha\n",
    "    \n",
    "    ENTRADA: \n",
    "       - avistamientos: lista de avistamientos\n",
    "            -> [Avistamiento(datetime, str, str, str, int, str, float, float)]\n",
    "       - fecha: fecha del avistamiento -> datetime.date\n",
    "    SALIDA: \n",
    "       - Número de avistamientos producidos en la fecha -> int\n",
    "    \n",
    "    Toma como entrada una lista de avistamientos y una fecha.\n",
    "    Devuelve el número de avistamientos que se han producido en esa fecha.\n",
    "    '''\n",
    "    pass "
   ]
  },
  {
   "cell_type": "code",
   "execution_count": null,
   "metadata": {
    "scrolled": true
   },
   "outputs": [],
   "source": [
    "# Test de la función numero_avistamientos_fecha\n",
    "fecha = datetime(2005, 5, 1).date()\n",
    "numero_avistamientos = numero_avistamientos_fecha(avistamientos, fecha)\n",
    "print(\"El día {} se produjeron {} avistamientos\"\n",
    "      .format(datetime.strftime(fecha, '%d/%m/%Y'), numero_avistamientos))"
   ]
  },
  {
   "cell_type": "markdown",
   "metadata": {},
   "source": [
    "### 2.2 Número de formas observadas en un conjunto de estados"
   ]
  },
  {
   "cell_type": "markdown",
   "metadata": {},
   "source": [
    "Función que obtiene el número de formas distintas que presentaron los avistamientos observados en uno o varios estados."
   ]
  },
  {
   "cell_type": "code",
   "execution_count": null,
   "metadata": {},
   "outputs": [],
   "source": [
    "def formas_estados(avistamientos, estados):\n",
    "    ''' \n",
    "    Devuelve el número de formas distintas observadas en avistamientos \n",
    "    producidos en alguno de los estados especificados.\n",
    "    \n",
    "    ENTRADA:\n",
    "       - avistamientos: lista de tuplas con la información de los avistamientos\n",
    "            -> [Avistamiento(datetime, str, str, str, int, str, float, float)]\n",
    "       - estados: conjunto de estados para los que se quiere hacer el cálculo -> {str}\n",
    "    SALIDA:\n",
    "       - Número de formas distintas observadas en los avistamientos producidos\n",
    "         en alguno de los estados indicados por el parámetro \"estados\" -> int\n",
    "    '''\n",
    "    pass"
   ]
  },
  {
   "cell_type": "code",
   "execution_count": null,
   "metadata": {},
   "outputs": [],
   "source": [
    "# Test de la función formas_estados\n",
    "conjunto_estados = {'in', 'nm', 'pa', 'wa'}\n",
    "print(\"Número de formas distintas observadas en los estados {}: {}\"\n",
    "      .format(', '.join(conjunto_estados), formas_estados(avistamientos, conjunto_estados)))"
   ]
  },
  {
   "cell_type": "markdown",
   "metadata": {},
   "source": [
    "### 2.3 Duración total de los avistamientos en un estado"
   ]
  },
  {
   "cell_type": "markdown",
   "metadata": {},
   "source": [
    "Función que devuelve la duración total en segundos de los avistamientos que se han observado en un estado."
   ]
  },
  {
   "cell_type": "code",
   "execution_count": null,
   "metadata": {},
   "outputs": [],
   "source": [
    "def duracion_total(avistamientos, estado):\n",
    "    ''' \n",
    "    Devuelve la duración total de los avistamientos de un estado. \n",
    "    \n",
    "    ENTRADA:\n",
    "       - avistamientos: lista de tuplas con la información de los avistamientos \n",
    "            -> [Avistamiento(datetime, str, str, str, int, str, float, float)]\n",
    "       - estado: estado para el que se quiere hacer el cálculo -> str\n",
    "    SALIDA:\n",
    "       - duración total en segundos de todos los avistamientos del estado -> int\n",
    "    '''\n",
    "    pass"
   ]
  },
  {
   "cell_type": "code",
   "execution_count": null,
   "metadata": {},
   "outputs": [],
   "source": [
    "# Test de la función duracion_total\n",
    "for estado in ['in', 'nm', 'pa', 'wa']:\n",
    "    print(\"Duración total de los avistamientos en {}: {} segundos.\"\n",
    "          .format(estado, duracion_total(avistamientos, estado)))"
   ]
  },
  {
   "cell_type": "markdown",
   "metadata": {},
   "source": [
    "### 2.4 Avistamientos cercanos a una ubicación"
   ]
  },
  {
   "cell_type": "markdown",
   "metadata": {},
   "source": [
    "Función que calcula un conjunto con los avistamientos cercanos a una ubicacion dada. Concretamente, vamos a obtener los avistamientos que se encuentren dentro de un determinado radio de distancia de la ubicación.\n",
    "\n",
    "Comenzamos por escribir una función que calcule la distancia entre dos coordenadas. Por simplicidad, usaremos la fórmula de la distancia euclídea entre dos puntos $(x1, y1)$ y $(x2, y2)$:\n",
    "\n",
    "$$\n",
    "distancia = \\sqrt {(x2-x1)^2 + (y2-y1)^2}\n",
    "$$"
   ]
  },
  {
   "cell_type": "code",
   "execution_count": null,
   "metadata": {},
   "outputs": [],
   "source": [
    "# Función auxiliar para el cálculo de la distancia entre dos coordenadas\n",
    "def distancia(coordenadas1, coordenadas2):\n",
    "    '''\n",
    "    Devuelve la distancia entre dos coordenadas.\n",
    "    \n",
    "    ENTRADA:\n",
    "       - coordenadas1: tupla con latitud y longitud -> (float, float)\n",
    "       - coordenadas2: tupla con latitud y longitud -> (float, float)     \n",
    "    SALIDA:\n",
    "       - distancia entre las dos coordenadas -> float\n",
    "    '''\n",
    "    return sqrt((coordenadas2[0] - coordenadas1[0])**2\n",
    "                     + (coordenadas2[1] - coordenadas1[1])**2)"
   ]
  },
  {
   "cell_type": "markdown",
   "metadata": {},
   "source": [
    "Ahora usamos esta función para calcular la distancia de cada avistamiento a la ubicación, y nos quedamos con aquellos que estén situados dentro de un radio de distancia $r$ de la ubicación."
   ]
  },
  {
   "cell_type": "code",
   "execution_count": null,
   "metadata": {},
   "outputs": [],
   "source": [
    "def avistamientos_cercanos_ubicacion(avistamientos, ubicacion, r):\n",
    "    ''' \n",
    "    Devuelve el conjunto de avistamientos cercanos a una ubicación.\n",
    "    \n",
    "    ENTRADA:\n",
    "       - avistamientos: lista de tuplas con la información de los avistamientos\n",
    "            -> [Avistamiento(datetime, str, str, str, int, str, float, float)]\n",
    "       - ubicacion: coordenadas de la ubicación para la cual queremos encontrar\n",
    "         avistamientos cercanos -> (float, float)\n",
    "       - r: radio de distancia -> float\n",
    "    SALIDA:\n",
    "       - Conjunto de avistamientos que se encuentran a una distancia\n",
    "         inferior al valor \"r\" de la ubicación dada por el parámetro \"ubicacion\" \n",
    "            -> {Avistamiento(datetime, str, str, str, int, str, float, float)}\n",
    "    '''\n",
    "    pass"
   ]
  },
  {
   "cell_type": "code",
   "execution_count": null,
   "metadata": {},
   "outputs": [],
   "source": [
    "# Test de la función avistamientos_cercanos_ubicacion\n",
    "coordenadas = (38.26, -77.18)\n",
    "radio = 0.1\n",
    "conjunto_av_cercanos = avistamientos_cercanos_ubicacion(avistamientos, coordenadas, radio)\n",
    "print(\"Avistamientos cercanos a {}: {}\".format(coordenadas, conjunto_av_cercanos))"
   ]
  },
  {
   "cell_type": "markdown",
   "metadata": {},
   "source": [
    "## 3 Operaciones con máximos, mínimos y ordenación"
   ]
  },
  {
   "cell_type": "markdown",
   "metadata": {},
   "source": [
    "### 3.1 Avistamiento de una forma con mayor duración"
   ]
  },
  {
   "cell_type": "markdown",
   "metadata": {},
   "source": [
    "Función que obtiene el avistamiento de mayor duración de entre todos los avistamientos que tienen una forma determinada."
   ]
  },
  {
   "cell_type": "code",
   "execution_count": null,
   "metadata": {},
   "outputs": [],
   "source": [
    "def avistamiento_mayor_duracion(avistamientos, forma):\n",
    "    '''\n",
    "    Devuelve el avistamiento de mayor duración de entre todos los\n",
    "    avistamientos de una forma dada.\n",
    "    \n",
    "    ENTRADA:\n",
    "       - avistamientos: lista de tuplas con la información de los avistamientos \n",
    "            -> [Avistamiento(datetime, str, str, str, int, str, float, float)]\n",
    "       - forma: forma del avistamiento -> str\n",
    "    SALIDA:\n",
    "       - avistamiento más largo de la forma dada\n",
    "            -> Avistamiento(datetime, str, str, str, int, str, float, float)\n",
    "    '''\n",
    "    pass"
   ]
  },
  {
   "cell_type": "code",
   "execution_count": null,
   "metadata": {},
   "outputs": [],
   "source": [
    "# Test de la función avistamiento_mayor_duracion\n",
    "forma = 'circle'\n",
    "print(\"Avistamiento de forma \\'{}\\' de mayor duración: {}\"\n",
    "      .format(forma, avistamiento_mayor_duracion(avistamientos, forma)))"
   ]
  },
  {
   "cell_type": "markdown",
   "metadata": {},
   "source": [
    "### 3.2 Avistamiento cercano a un punto con mayor duración"
   ]
  },
  {
   "cell_type": "markdown",
   "metadata": {},
   "source": [
    "Función que devuelve el avistamiento que más tiempo ha durado de aquellos situados dentro de un radio de distancia de una ubicación dada; es decir, la distancia entre las coordenadas del avistamiento y las coordenadas que se pasan como parámetro de entrada debe ser menor al radio que también aparece como parámetro de la función. El resultado debe ser una tupla de la forma (duración, comentarios)"
   ]
  },
  {
   "cell_type": "code",
   "execution_count": null,
   "metadata": {},
   "outputs": [],
   "source": [
    "def avistamiento_cercano_mayor_duracion(avistamientos, coordenadas, radio=0.5):\n",
    "    '''\n",
    "    Devuelve la duración y los comentarios del avistamiento que más \n",
    "    tiempo ha durado de aquellos situados en el entorno de las\n",
    "    coordenadas que se pasan como parámetro de entrada.\n",
    "    El resultado debe ser una tupla de la forma (duración, comentarios)\n",
    "    \n",
    "    ENTRADA:\n",
    "       - avistamientos: lista de tuplas con la información de los avistamientos \n",
    "            -> [Avistamiento(datetime, str, str, str, int, str, float, float)]\n",
    "       - coordenadas: tupla con latitud y longitud -> (float, float)\n",
    "       - radio: radio de búsqueda -> float\n",
    "    SALIDA:\n",
    "       - duración del avistamiento más largo en el entorno de las coordenadas\n",
    "            -> int\n",
    "       - comentarios del avistamiento más largo en el entorno de las coordenadas\n",
    "            -> str\n",
    "    '''\n",
    "    pass"
   ]
  },
  {
   "cell_type": "code",
   "execution_count": null,
   "metadata": {},
   "outputs": [],
   "source": [
    "# Test de la función avistamiento_cercano_mayor_duracion\n",
    "coordenadas = (40.2, -85.4)\n",
    "radio = 0.5\n",
    "duracion, comentario = avistamiento_cercano_mayor_duracion(avistamientos, coordenadas)\n",
    "print(\"Duración del avistamiento más largo en un entorno de radio {} sobre las coordenadas {}: {} segundos\"\n",
    "      .format(radio, coordenadas, duracion))\n",
    "print(\"Comentario:\", comentario)"
   ]
  },
  {
   "cell_type": "markdown",
   "metadata": {},
   "source": [
    "### 3.3 Avistamientos producidos entre dos fechas"
   ]
  },
  {
   "cell_type": "markdown",
   "metadata": {},
   "source": [
    "Función que devuelve una lista con los avistamientos observados entre una fecha inicial y una fecha final, ambas inclusive. La lista devuelta estará ordenada de los avistamientos más recientes a los más antiguos. Si la fecha inicial es None, se devolverán todos los avistamientos desde el más antiguo hasta la fecha final. Si la fecha final es None, se devolverán todos los avistamientos desde la fecha inicial hasta el más reciente. Si ambas fechas son None, se devolverá la lista de avistamientos completa."
   ]
  },
  {
   "cell_type": "code",
   "execution_count": null,
   "metadata": {},
   "outputs": [],
   "source": [
    "def avistamientos_fechas(avistamientos, fecha_inicial=None, fecha_final=None):\n",
    "    '''\n",
    "    Devuelve una lista con los avistamientos que han tenido lugar\n",
    "    entre fecha_inicial y fecha_final (ambas inclusive). La lista devuelta\n",
    "    estará ordenada de los avistamientos más recientes a los más antiguos.\n",
    "    \n",
    "    Si fecha_inicial es None se devolverán todos los avistamientos\n",
    "    hasta fecha_final.\n",
    "    Si fecha_final es None se devolverán todos los avistamientos desde\n",
    "    fecha_inicial.\n",
    "    Si ambas fechas son None se devolverá la lista de \n",
    "    avistamientos completa. \n",
    "    \n",
    "    Usar el método date() para obtener la fecha de un objeto datetime.\n",
    "    \n",
    "    ENTRADA:\n",
    "       - avistamientos: lista de tuplas con la información de los avistamientos \n",
    "            -> [Avistamiento(datetime, str, str, str, int, str, float, float)]\n",
    "       - fecha_inicial: fecha a partir de la cual se devuelven los avistamientos\n",
    "            -> datetime.date\n",
    "       - fecha_final: fecha hasta la cual se devuelven los avistamientos\n",
    "            -> datetime.date\n",
    "    SALIDA:\n",
    "       - lista de tuplas con la información de los avistamientos en el rango de fechas\n",
    "            -> [Avistamiento(datetime, str, str, str, int, str, float, float)]\n",
    "    '''\n",
    "    pass"
   ]
  },
  {
   "cell_type": "code",
   "execution_count": null,
   "metadata": {},
   "outputs": [],
   "source": [
    "# Test de la función avistamientos_fechas\n",
    "avistamientos_fec = avistamientos_fechas(avistamientos,\n",
    "                                         datetime(2005,5,1).date(), datetime(2005,5,1).date())\n",
    "print(\"Mostrando los avistamientos entre el 1 de mayo de 2005 y el 1 de mayo de 2005: \")\n",
    "for a in avistamientos_fec:\n",
    "    print(\"\\t\", a)\n",
    "    \n",
    "print(\"\\tTotal: {} avistamientos.\".format(len(avistamientos_fec)))\n",
    "print(\"Avistamientos hasta el 1 de mayo de 2005: {} avistamientos\"\n",
    "      .format(len(avistamientos_fechas(avistamientos,\n",
    "                                       fecha_final=datetime(2005,5,1).date()))))\n",
    "print(\"Avistamientos desde el 1 de mayo de 2005: {} avistamientos\"\n",
    "      .format(len(avistamientos_fechas(avistamientos,\n",
    "                                       fecha_inicial=datetime(2005,5,1).date()))))"
   ]
  },
  {
   "cell_type": "markdown",
   "metadata": {},
   "source": [
    "### 3.4 Avistamiento de un año con el comentario más largo"
   ]
  },
  {
   "cell_type": "markdown",
   "metadata": {},
   "source": [
    "Función que devuelve el avistamiento con el comentario más largo, de entre todos los avistamientos observados en un año dado y cuyo comentario incluye una palabra concreta."
   ]
  },
  {
   "cell_type": "code",
   "execution_count": null,
   "metadata": {},
   "outputs": [],
   "source": [
    "def comentario_mas_largo(avistamientos, anyo, palabra):\n",
    "    ''' \n",
    "    Devuelve el avistamiento cuyo comentario es más largo, de entre\n",
    "    los avistamientos observados en el año dado por el parámetro \"anyo\"\n",
    "    y cuyo comentario incluya la palabra recibida en el parámetro \"palabra\".\n",
    "    \n",
    "    ENTRADA:\n",
    "       - avistamientos: lista de tuplas con la información de los avistamientos \n",
    "            -> [Avistamiento(datetime, str, str, str, int, str, float, float)]\n",
    "       - anyo: año para el que se hará la búsqueda -> int\n",
    "       - palabra: palabra que debe incluir el comentario del avistamiento buscado -> str\n",
    "    SALIDA:\n",
    "       - longitud del comentario más largo -> int\n",
    "       - avistamiento con el comentario más largo\n",
    "            -> Avistamiento(datetime, str, str, str, int, str, float, float)\n",
    "    '''    \n",
    "    pass"
   ]
  },
  {
   "cell_type": "code",
   "execution_count": null,
   "metadata": {},
   "outputs": [],
   "source": [
    "# Test de la función comentario_mas_largo\n",
    "print('El avistamiento con el comentario más largo de 2015 incluyendo la palabra \"ufo\" es:')     \n",
    "print(comentario_mas_largo(avistamientos, 2005, \"ufo\"))"
   ]
  },
  {
   "cell_type": "markdown",
   "metadata": {},
   "source": [
    "## 4 Operaciones con diccionarios"
   ]
  },
  {
   "cell_type": "markdown",
   "metadata": {},
   "source": [
    "### 4.1 Avistamientos por fecha"
   ]
  },
  {
   "cell_type": "markdown",
   "metadata": {},
   "source": [
    "Función que crea un diccionario que relaciona las fechas con los avistamientos observados en dichas fechas. Es decir, un diccionario cuyas claves son las fechas y cuyos valores son los conjuntos de avistamientos observados en cada fecha."
   ]
  },
  {
   "cell_type": "code",
   "execution_count": null,
   "metadata": {},
   "outputs": [],
   "source": [
    "def avistamientos_por_fecha(avistamientos):\n",
    "    ''' \n",
    "    Devuelve un diccionario que indexa los avistamientos por fechas\n",
    "    \n",
    "    ENTRADA:\n",
    "       - avistamientos: lista de tuplas con la información de los avistamientos \n",
    "            -> [Avistamiento(datetime, str, str, str, int, str, float, float)]\n",
    "    SALIDA:\n",
    "       - diccionario en el que las claves son las fechas de los avistamientos \n",
    "         y los valores son conjuntos con los avistamientos observados en cada fecha\n",
    "            -> {datetime.date: {Avistamiento(...)}}\n",
    "    '''\n",
    "    pass"
   ]
  },
  {
   "cell_type": "code",
   "execution_count": null,
   "metadata": {},
   "outputs": [],
   "source": [
    "# Test de la función avistamientos_por_fecha\n",
    "indice = avistamientos_por_fecha(avistamientos)\n",
    "print(\"Avistamientos por fecha (se muestran solo dos fechas):\", )\n",
    "for f in [datetime(1986, 9, 18).date(), datetime(1986, 7, 20).date()]:\n",
    "    print(\"\\t{}: {}\".format(f, indice[f])) "
   ]
  },
  {
   "cell_type": "markdown",
   "metadata": {},
   "source": [
    "### 4.2 Formas de avistamientos por mes"
   ]
  },
  {
   "cell_type": "markdown",
   "metadata": {},
   "source": [
    "Función que devuelve un diccionario que indexa las distintas formas de avistamientos por los nombres de los meses en que se observaron. Por ejemplo, para el mes \"Enero\" se tendrá un conjunto con todas las formas distintas observadas en dicho mes."
   ]
  },
  {
   "cell_type": "code",
   "execution_count": null,
   "metadata": {},
   "outputs": [],
   "source": [
    "def formas_por_mes(avistamientos):\n",
    "    ''' \n",
    "    Devuelve un diccionario que indexa las distintas formas de avistamientos\n",
    "    por los nombres de los meses en que se observan.\n",
    "    Por ejemplo, para el mes \"Enero\" se asociará un conjunto con todas las\n",
    "    formas distintas observadas en dicho mes.\n",
    "    \n",
    "    Usar como claves los nombres de los doce meses con la inicial en mayúsculas:\n",
    "    meses = [\"Enero\", \"Febrero\", \"Marzo\", \n",
    "             \"Abril\", \"Mayo\", \"Junio\", \n",
    "             \"Julio\", \"Agosto\", \"Septiembre\", \n",
    "             \"Octubre\", \"Noviembre\", \"Diciembre\"]\n",
    "    \n",
    "    ENTRADA:\n",
    "       - avistamientos: lista de tuplas con la información de los avistamientos \n",
    "            -> [Avistamiento(datetime, str, str, str, int, str, float, float)]\n",
    "    SALIDA:\n",
    "       - diccionario en el que las claves son los nombres de los meses \n",
    "         y los valores son conjuntos con las formas observadas en cada mes\n",
    "            -> {str: {str}}\n",
    "    '''\n",
    "    pass"
   ]
  },
  {
   "cell_type": "code",
   "execution_count": null,
   "metadata": {},
   "outputs": [],
   "source": [
    "# Test de la función formas_por_mes\n",
    "indice = formas_por_mes(avistamientos)\n",
    "print(\"Índice de formas por mes (se muestran las formas para enero, julio y noviembre:\")\n",
    "for mes in [\"Enero\", \"Julio\", \"Noviembre\"]:\n",
    "    print(\"\\t{} ({} formas distintas): {}\"\n",
    "          .format(mes, len(indice[mes]), ', '.join(sorted(indice[mes]))))"
   ]
  },
  {
   "cell_type": "markdown",
   "metadata": {},
   "source": [
    "### 4.3 Número de avistamientos por año"
   ]
  },
  {
   "cell_type": "markdown",
   "metadata": {},
   "source": [
    "Función que crea un diccionario que relaciona cada año con el número de avistamientos observados en dicho año. Es decir, un diccionario cuyas claves son los años y cuyos valores son el número de avistamientos observados en cada año."
   ]
  },
  {
   "cell_type": "code",
   "execution_count": null,
   "metadata": {},
   "outputs": [],
   "source": [
    "def numero_avistamientos_por_año(avistamientos):\n",
    "    '''\n",
    "    Devuelve el número de avistamientos observados en cada año.\n",
    "             \n",
    "    ENTRADA:\n",
    "       - avistamientos: lista de tuplas con la información de los avistamientos \n",
    "            -> [Avistamiento(datetime, str, str, str, int, str, float, float)]\n",
    "    SALIDA:\n",
    "       - diccionario en el que las claves son los años\n",
    "         y los valores son el número de avistamientos observados en ese año\n",
    "            -> {int: int}\n",
    "    '''\n",
    "    pass"
   ]
  },
  {
   "cell_type": "code",
   "execution_count": null,
   "metadata": {},
   "outputs": [],
   "source": [
    "# Test de la función numero_avistamientos_por_año\n",
    "indice = numero_avistamientos_por_año(avistamientos)\n",
    "print(\"Número de avistamientos por año:\")\n",
    "for a in indice.keys():\n",
    "    print(\"\\t{}: {}\".format(a, indice[a]))"
   ]
  },
  {
   "cell_type": "markdown",
   "metadata": {},
   "source": [
    "### 4.4 Número de avistamientos por mes del año"
   ]
  },
  {
   "cell_type": "markdown",
   "metadata": {},
   "source": [
    "Función que devuelve el número de avistamientos observados en cada mes del año."
   ]
  },
  {
   "cell_type": "code",
   "execution_count": null,
   "metadata": {},
   "outputs": [],
   "source": [
    "def num_avistamientos_por_mes(avistamientos):\n",
    "    '''\n",
    "    Devuelve el número de avistamientos observados en cada mes del año.\n",
    "    \n",
    "    Usar la expresión .date().month para obtener el número del mes de un objeto datetime.\n",
    "    \n",
    "    Usar como claves los nombres de los doce meses con la inicial en mayúsculas:\n",
    "    meses = [\"Enero\", \"Febrero\", \"Marzo\", \n",
    "             \"Abril\", \"Mayo\", \"Junio\", \n",
    "             \"Julio\", \"Agosto\", \"Septiembre\", \n",
    "             \"Octubre\", \"Noviembre\", \"Diciembre\"]\n",
    "             \n",
    "    ENTRADA:\n",
    "       - avistamientos: lista de tuplas con la información de los avistamientos \n",
    "            -> [Avistamiento(datetime, str, str, str, int, str, float, float)]\n",
    "    SALIDA:\n",
    "       - diccionario en el que las claves son los nombres de los meses y \n",
    "         los valores son el número de avistamientos observados en ese mes\n",
    "            -> {str: int}\n",
    "    '''\n",
    "    pass"
   ]
  },
  {
   "cell_type": "code",
   "execution_count": null,
   "metadata": {},
   "outputs": [],
   "source": [
    "# Test de la función num_avistamientos_por_mes\n",
    "indice = num_avistamientos_por_mes(avistamientos)\n",
    "print(\"Número de avistamientos por mes (sólo se muestran enero, febrero y marzo):\")\n",
    "for mes in [\"Enero\", \"Febrero\", \"Marzo\"]:\n",
    "    print(\"\\t{}: {}\".format(mes, indice[mes])) "
   ]
  },
  {
   "cell_type": "markdown",
   "metadata": {},
   "source": [
    "### 4.5 Coordenadas con mayor número de avistamientos"
   ]
  },
  {
   "cell_type": "markdown",
   "metadata": {},
   "source": [
    "Función que devuelve las coordenadas enteras que se corresponden con la zona donde más avistamientos se han observado. Por ejemplo, si hay avistamientos en las coordenadas (40.1, -85.3), (41.13, -85.1) y (40.2, -85.4), la zona con más avistamientos corresponde a las coordenadas enteras (40, -85) con 2 avistamientos."
   ]
  },
  {
   "cell_type": "code",
   "execution_count": null,
   "metadata": {},
   "outputs": [],
   "source": [
    "def coordenadas_mas_avistamientos(avistamientos): \n",
    "    '''\n",
    "    Devuelve las coordenadas enteras que se corresponden con \n",
    "    la zona donde más avistamientos se han observado.\n",
    "    \n",
    "    ENTRADA:\n",
    "       - avistamientos: lista de tuplas con la información de los avistamientos \n",
    "            -> [Avistamiento(datetime, str, str, str, int, str, float, float)]\n",
    "    SALIDA:\n",
    "       - latitud y longitud enteras que acumulan más avistamientos -> (int, int)\n",
    "       \n",
    "    En primer lugar construiremos un diccionario cuyas claves sean las coordenadas \n",
    "    enteras obtenidas a partir de las coordenadas de los avistamientos, y\n",
    "    cuyos valores sean el número de avistamientos observados en esas coordenadas.\n",
    "    Después obtendremos el máximo de los elementos del diccionario según el valor\n",
    "    del elemento.\n",
    "    '''   \n",
    "    pass"
   ]
  },
  {
   "cell_type": "code",
   "execution_count": null,
   "metadata": {},
   "outputs": [],
   "source": [
    "# Test de la función coordenadas_mas_avistamientos\n",
    "print(\"Coordenadas enteras de la región en la que se observaron más avistamientos:\", \n",
    "      coordenadas_mas_avistamientos(avistamientos))"
   ]
  },
  {
   "cell_type": "markdown",
   "metadata": {},
   "source": [
    "### 4.6 Hora del día con mayor número de avistamientos"
   ]
  },
  {
   "cell_type": "markdown",
   "metadata": {},
   "source": [
    "Función que devuelve la hora del día (de 0 a 23) en la que se han observado un mayor número de avistamientos."
   ]
  },
  {
   "cell_type": "code",
   "execution_count": null,
   "metadata": {},
   "outputs": [],
   "source": [
    "def hora_mas_avistamientos(avistamientos):\n",
    "    ''' \n",
    "    Devuelve la hora del día (de 0 a 23) con mayor número de avistamientos\n",
    "    \n",
    "    ENTRADA:\n",
    "       - avistamientos: lista de tuplas con la información de los avistamientos \n",
    "            -> [Avistamiento(datetime, str, str, str, int, str, float, float)]\n",
    "    SALIDA:\n",
    "       - hora del día en la que se producen más avistamientos -> int\n",
    "       \n",
    "    En primer lugar construiremos un diccionario cuyas claves sean las horas del\n",
    "    día en las que se han observado avistamientos, y cuyos valores sean el número\n",
    "    de avistamientos observados en esa hora.\n",
    "    Después obtendremos el máximo de los elementos del diccionario según el valor\n",
    "    del elemento.\n",
    "    '''\n",
    "    pass"
   ]
  },
  {
   "cell_type": "code",
   "execution_count": null,
   "metadata": {},
   "outputs": [],
   "source": [
    "# Test de la función hora_mas_avistamientos\n",
    "print(\"Hora en la que se han observado más avistamientos:\",\n",
    "      hora_mas_avistamientos(avistamientos))"
   ]
  },
  {
   "cell_type": "markdown",
   "metadata": {},
   "source": [
    "### 4.7 Longitud media de los comentarios por estado"
   ]
  },
  {
   "cell_type": "markdown",
   "metadata": {},
   "source": [
    "Función que devuelve un diccionario en el que las claves son los estados donde se producen los avistamientos, y los valores son la longitud media de los comentarios de los avistamientos observados en cada estado."
   ]
  },
  {
   "cell_type": "code",
   "execution_count": null,
   "metadata": {},
   "outputs": [],
   "source": [
    "def longitud_media_comentarios_por_estado(avistamientos):\n",
    "    '''\n",
    "    Devuelve un diccionario en el que las claves son los estados donde se\n",
    "    producen los avistamientos y los valores son la longitud media de los\n",
    "    comentarios de los avistamientos en cada estado.\n",
    "    \n",
    "    ENTRADA:\n",
    "       - avistamientos: lista de tuplas con la información de los avistamientos \n",
    "            -> [Avistamiento(datetime, str, str, str, int, str, float, float)]\n",
    "    SALIDA:\n",
    "       - diccionario que almacena la longitud media de los comentarios (valores)\n",
    "         por estado (claves)\n",
    "            -> {str: float}\n",
    "            \n",
    "    En primer lugar construiremos un diccionario cuyas claves sean los estados\n",
    "    y cuyos valores sean el número de avistamientos de ese estado.\n",
    "    Después crearemos otro diccionario cuyas claves sean los estados\n",
    "    y cuyos valores sean la suma de las longitudes de los comentarios de los\n",
    "    avistamientos de ese estado.\n",
    "    A partir de estos dos diccionarios crearemos un tercer diccionario cuyas claves\n",
    "    sean los estados y cuyos valores sean los que nos piden, y que se obtienen\n",
    "    a partir de los valores de los dos diccionarios auxiliares creados.\n",
    "    '''\n",
    "    pass  "
   ]
  },
  {
   "cell_type": "code",
   "execution_count": null,
   "metadata": {},
   "outputs": [],
   "source": [
    "# Test de la función longitud_media_comentarios_por_estado\n",
    "indice = longitud_media_comentarios_por_estado(avistamientos)\n",
    "print(\"Mostrando la media del tamaño de los comentarios de los avistamientos de los estados 'in','nm', 'pa' y 'wa':\")\n",
    "for estado in ['in', 'nm', 'pa', 'wa']:\n",
    "    print(\"\\t{}: {}\".format(estado, indice[estado]))"
   ]
  },
  {
   "cell_type": "markdown",
   "metadata": {},
   "source": [
    "### 4.8 Porcentaje de avistamientos por forma"
   ]
  },
  {
   "cell_type": "markdown",
   "metadata": {},
   "source": [
    "Función que devuelve un diccionario en el que las claves son las formas de los avistamientos, y los valores son el porcentaje de avistamientos de cada forma con respecto al número total de avistamientos."
   ]
  },
  {
   "cell_type": "code",
   "execution_count": null,
   "metadata": {},
   "outputs": [],
   "source": [
    "def porc_avistamientos_por_forma(avistamientos):  \n",
    "    '''\n",
    "    Devuelve un diccionario en el que las claves son las formas de los\n",
    "    avistamientos, y los valores los porcentajes de avistamientos con cada forma.\n",
    "    \n",
    "    ENTRADA:\n",
    "       - avistamientos: lista de tuplas con la información de los avistamientos \n",
    "            -> [Avistamiento(datetime, str, str, str, int, str, float, float)]\n",
    "    SALIDA:\n",
    "       - diccionario que almacena los porcentajes de avistamientos (valores)\n",
    "         por forma (claves)\n",
    "            -> {str: float}\n",
    "            \n",
    "    En primer lugar crearemos un diccionario cuyas claves sean las formas\n",
    "    y cuyos valores sean el número de avistamientos de esa forma.\n",
    "    Después crearemos un segundo diccionario con las mismas claves y cuyos valores\n",
    "    resulten de dividir los valores del diccionario anterior por el número\n",
    "    total de avistamientos, para obtener los porcentajes.\n",
    "    '''  \n",
    "    pass"
   ]
  },
  {
   "cell_type": "code",
   "execution_count": null,
   "metadata": {},
   "outputs": [],
   "source": [
    "# Test de la función porc_avistamientos_por_forma\n",
    "porcentajes = porc_avistamientos_por_forma(avistamientos)\n",
    "print(\"Porcentajes de avistamientos de las distintas formas (sólo se muestran las formas 'changing', 'chevron', 'cigar' y 'circle'):\")\n",
    "for forma in ['changing', 'chevron', 'cigar', 'circle']:\n",
    "    print(\"\\t{}: {:.2f}%\".format(forma, porcentajes[forma]))"
   ]
  },
  {
   "cell_type": "markdown",
   "metadata": {},
   "source": [
    "### 4.9 Avistamientos de mayor duración por estado"
   ]
  },
  {
   "cell_type": "markdown",
   "metadata": {},
   "source": [
    "Función que devuelve un diccionario que relaciona los estados con los avistamientos de mayor duración observados en dicho estado, ordenados de mayor a menor duración. Si no se indica nada, se obtendrán los tres avistamientos de mayor duración."
   ]
  },
  {
   "cell_type": "code",
   "execution_count": null,
   "metadata": {
    "scrolled": true
   },
   "outputs": [],
   "source": [
    "def avistamientos_mayor_duracion_por_estado(avistamientos, limite=3):\n",
    "    '''\n",
    "    Devuelve un diccionario que almacena los avistamientos de mayor duración \n",
    "    en cada estado, ordenados de mayor a menor duración.\n",
    "    \n",
    "    ENTRADA:\n",
    "       - avistamientos: lista de tuplas con la información de los avistamientos \n",
    "            -> [Avistamiento(datetime, str, str, str, int, str, float, float)]\n",
    "       - limite: número de avistamientos a almacenar por cada estado -> int\n",
    "    SALIDA:\n",
    "       - diccionario en el que las claves son los estados y los valores son listas \n",
    "         con los \"limite\" avistamientos de mayor duración de cada estado,\n",
    "         ordenados de mayor a menor duración\n",
    "            -> {str: [Avistamiento(...)]}\n",
    "            \n",
    "    En primer lugar crearemos un diccionario cuyas claves sean los estados\n",
    "    y cuyos valores sean listas con los avistamientos observados en ese estado.\n",
    "    Después crearemos un segundo diccionario cuyas claves sean los estados\n",
    "    y cuyos valores sean las mismas listas, pero en orden de mayor a menor\n",
    "    duración y recortadas a \"limite\" elementos.\n",
    "    '''\n",
    "    pass"
   ]
  },
  {
   "cell_type": "code",
   "execution_count": null,
   "metadata": {},
   "outputs": [],
   "source": [
    "# Test de la función avistamientos_mayor_duracion_por_estado\n",
    "indice = avistamientos_mayor_duracion_por_estado(avistamientos)\n",
    "print(\"Mostrando los 3 avistamientos de mayor duración de los estados 'in' y 'nm':\")\n",
    "for estado in ['in', 'nm']:\n",
    "    print(\"\\t\", estado)\n",
    "    for a in indice[estado]:\n",
    "        print(\"\\t\\t\", a)"
   ]
  }
 ],
 "metadata": {
  "anaconda-cloud": {},
  "kernelspec": {
   "display_name": "Python 3.10.5 64-bit",
   "language": "python",
   "name": "python3"
  },
  "language_info": {
   "codemirror_mode": {
    "name": "ipython",
    "version": 3
   },
   "file_extension": ".py",
   "mimetype": "text/x-python",
   "name": "python",
   "nbconvert_exporter": "python",
   "pygments_lexer": "ipython3",
   "version": "3.10.5"
  },
  "vscode": {
   "interpreter": {
    "hash": "369f2c481f4da34e4445cda3fffd2e751bd1c4d706f27375911949ba6bb62e1c"
   }
  }
 },
 "nbformat": 4,
 "nbformat_minor": 2
}
